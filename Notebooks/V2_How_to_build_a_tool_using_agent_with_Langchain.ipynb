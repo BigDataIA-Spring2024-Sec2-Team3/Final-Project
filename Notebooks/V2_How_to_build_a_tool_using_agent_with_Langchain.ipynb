{
  "cells": [
    {
      "cell_type": "markdown",
      "id": "30995a82",
      "metadata": {
        "id": "30995a82"
      },
      "source": [
        "# How to build a tool-using agent with LangChain\n",
        "\n",
        "This notebook takes you through how to use LangChain to augment an OpenAI model with access to external tools. In particular, you'll be able to create LLM agents that use custom tools to answer user queries.\n",
        "\n",
        "\n",
        "## What is Langchain?\n",
        "[LangChain](https://python.langchain.com/en/latest/index.html) is a framework for developing applications powered by language models. Their framework enables you to build layered LLM-powered applications that are context-aware and able to interact dynamically with their environment as agents, leading to simplified code for you and a more dynamic user experience for your customers.\n",
        "\n",
        "## Why do LLMs need to use Tools?\n",
        "One of the most common challenges with LLMs is overcoming the lack of recency and specificity in their training data - answers can be out of date, and they are prone to hallucinations given the huge variety in their knowledge base. Tools are a great method of allowing an LLM to answer within a controlled context that draws on your existing knowledge bases and internal APIs - instead of trying to prompt engineer the LLM all the way to your intended answer, you allow it access to tools that it calls on dynamically for info, parses, and serves to customer.\n",
        "\n",
        "Providing LLMs access to tools can enable them to answer questions with context directly from search engines, APIs or your own databases. Instead of answering directly, an LLM with access to tools can perform intermediate steps to gather relevant information. Tools can also be used in combination. [For example](https://python.langchain.com/en/latest/modules/agents/agents/examples/mrkl_chat.html), a language model can be made to use a search tool to lookup quantitative information and a calculator to execute calculations.\n",
        "\n",
        "## Notebook Sections\n",
        "\n",
        "- **Setup:** Import packages and connect to a Pinecone vector database.\n",
        "- **LLM Agent:** Build an agent that leverages a modified version of the [ReAct](https://react-lm.github.io/) framework to do chain-of-thought reasoning.\n",
        "- **LLM Agent with History:** Provide the LLM with access to previous steps in the conversation.\n",
        "- **Knowledge Base:** Create a knowledge base of \"Stuff You Should Know\" podcast episodes, to be accessed through a tool.\n",
        "- **LLM Agent with Tools:** Extend the agent with access to multiple tools and test that it uses them to answer questions."
      ]
    },
    {
      "cell_type": "code",
      "execution_count": null,
      "id": "9c069980",
      "metadata": {
        "id": "9c069980"
      },
      "outputs": [],
      "source": [
        "%load_ext autoreload\n",
        "%autoreload 2"
      ]
    },
    {
      "cell_type": "markdown",
      "id": "7a254003",
      "metadata": {
        "id": "7a254003"
      },
      "source": [
        "# Setup\n",
        "\n",
        "Import libraries and set up a connection to a [Pinecone](https://www.pinecone.io) vector database.\n",
        "\n",
        "You can substitute Pinecone for any other vectorstore or database - there are a [selection](https://python.langchain.com/en/latest/modules/indexes/vectorstores.html) that are supported by Langchain natively, while other connectors will need to be developed yourself."
      ]
    },
    {
      "cell_type": "code",
      "execution_count": null,
      "id": "f55905f7",
      "metadata": {
        "id": "f55905f7",
        "colab": {
          "base_uri": "https://localhost:8080/"
        },
        "outputId": "90fbdd92-c47c-40b0-ab55-f4263e1cf98f"
      },
      "outputs": [
        {
          "output_type": "stream",
          "name": "stdout",
          "text": [
            "Requirement already satisfied: openai in /usr/local/lib/python3.10/dist-packages (1.20.0)\n",
            "Requirement already satisfied: anyio<5,>=3.5.0 in /usr/local/lib/python3.10/dist-packages (from openai) (3.7.1)\n",
            "Requirement already satisfied: distro<2,>=1.7.0 in /usr/lib/python3/dist-packages (from openai) (1.7.0)\n",
            "Requirement already satisfied: httpx<1,>=0.23.0 in /usr/local/lib/python3.10/dist-packages (from openai) (0.27.0)\n",
            "Requirement already satisfied: pydantic<3,>=1.9.0 in /usr/local/lib/python3.10/dist-packages (from openai) (2.6.4)\n",
            "Requirement already satisfied: sniffio in /usr/local/lib/python3.10/dist-packages (from openai) (1.3.1)\n",
            "Requirement already satisfied: tqdm>4 in /usr/local/lib/python3.10/dist-packages (from openai) (4.66.2)\n",
            "Requirement already satisfied: typing-extensions<5,>=4.7 in /usr/local/lib/python3.10/dist-packages (from openai) (4.11.0)\n",
            "Requirement already satisfied: idna>=2.8 in /usr/local/lib/python3.10/dist-packages (from anyio<5,>=3.5.0->openai) (3.6)\n",
            "Requirement already satisfied: exceptiongroup in /usr/local/lib/python3.10/dist-packages (from anyio<5,>=3.5.0->openai) (1.2.0)\n",
            "Requirement already satisfied: certifi in /usr/local/lib/python3.10/dist-packages (from httpx<1,>=0.23.0->openai) (2024.2.2)\n",
            "Requirement already satisfied: httpcore==1.* in /usr/local/lib/python3.10/dist-packages (from httpx<1,>=0.23.0->openai) (1.0.5)\n",
            "Requirement already satisfied: h11<0.15,>=0.13 in /usr/local/lib/python3.10/dist-packages (from httpcore==1.*->httpx<1,>=0.23.0->openai) (0.14.0)\n",
            "Requirement already satisfied: annotated-types>=0.4.0 in /usr/local/lib/python3.10/dist-packages (from pydantic<3,>=1.9.0->openai) (0.6.0)\n",
            "Requirement already satisfied: pydantic-core==2.16.3 in /usr/local/lib/python3.10/dist-packages (from pydantic<3,>=1.9.0->openai) (2.16.3)\n",
            "Requirement already satisfied: pinecone-client in /usr/local/lib/python3.10/dist-packages (3.2.2)\n",
            "Requirement already satisfied: certifi>=2019.11.17 in /usr/local/lib/python3.10/dist-packages (from pinecone-client) (2024.2.2)\n",
            "Requirement already satisfied: tqdm>=4.64.1 in /usr/local/lib/python3.10/dist-packages (from pinecone-client) (4.66.2)\n",
            "Requirement already satisfied: typing-extensions>=3.7.4 in /usr/local/lib/python3.10/dist-packages (from pinecone-client) (4.11.0)\n",
            "Requirement already satisfied: urllib3>=1.26.0 in /usr/local/lib/python3.10/dist-packages (from pinecone-client) (2.0.7)\n",
            "Requirement already satisfied: pandas in /usr/local/lib/python3.10/dist-packages (2.0.3)\n",
            "Requirement already satisfied: python-dateutil>=2.8.2 in /usr/local/lib/python3.10/dist-packages (from pandas) (2.8.2)\n",
            "Requirement already satisfied: pytz>=2020.1 in /usr/local/lib/python3.10/dist-packages (from pandas) (2023.4)\n",
            "Requirement already satisfied: tzdata>=2022.1 in /usr/local/lib/python3.10/dist-packages (from pandas) (2024.1)\n",
            "Requirement already satisfied: numpy>=1.21.0 in /usr/local/lib/python3.10/dist-packages (from pandas) (1.25.2)\n",
            "Requirement already satisfied: six>=1.5 in /usr/local/lib/python3.10/dist-packages (from python-dateutil>=2.8.2->pandas) (1.16.0)\n",
            "Requirement already satisfied: typing in /usr/local/lib/python3.10/dist-packages (3.7.4.3)\n",
            "Requirement already satisfied: tqdm in /usr/local/lib/python3.10/dist-packages (4.66.2)\n",
            "Collecting langchain\n",
            "  Using cached langchain-0.1.16-py3-none-any.whl (817 kB)\n",
            "Requirement already satisfied: PyYAML>=5.3 in /usr/local/lib/python3.10/dist-packages (from langchain) (6.0.1)\n",
            "Requirement already satisfied: SQLAlchemy<3,>=1.4 in /usr/local/lib/python3.10/dist-packages (from langchain) (2.0.29)\n",
            "Requirement already satisfied: aiohttp<4.0.0,>=3.8.3 in /usr/local/lib/python3.10/dist-packages (from langchain) (3.9.3)\n",
            "Requirement already satisfied: async-timeout<5.0.0,>=4.0.0 in /usr/local/lib/python3.10/dist-packages (from langchain) (4.0.3)\n",
            "Collecting dataclasses-json<0.7,>=0.5.7 (from langchain)\n",
            "  Using cached dataclasses_json-0.6.4-py3-none-any.whl (28 kB)\n",
            "Collecting jsonpatch<2.0,>=1.33 (from langchain)\n",
            "  Using cached jsonpatch-1.33-py2.py3-none-any.whl (12 kB)\n",
            "Collecting langchain-community<0.1,>=0.0.32 (from langchain)\n",
            "  Using cached langchain_community-0.0.33-py3-none-any.whl (1.9 MB)\n",
            "Collecting langchain-core<0.2.0,>=0.1.42 (from langchain)\n",
            "  Downloading langchain_core-0.1.43-py3-none-any.whl (289 kB)\n",
            "\u001b[2K     \u001b[90m━━━━━━━━━━━━━━━━━━━━━━━━━━━━━━━━━━━━━━━━\u001b[0m \u001b[32m289.1/289.1 kB\u001b[0m \u001b[31m2.3 MB/s\u001b[0m eta \u001b[36m0:00:00\u001b[0m\n",
            "\u001b[?25hCollecting langchain-text-splitters<0.1,>=0.0.1 (from langchain)\n",
            "  Downloading langchain_text_splitters-0.0.1-py3-none-any.whl (21 kB)\n",
            "Collecting langsmith<0.2.0,>=0.1.17 (from langchain)\n",
            "  Downloading langsmith-0.1.48-py3-none-any.whl (113 kB)\n",
            "\u001b[2K     \u001b[90m━━━━━━━━━━━━━━━━━━━━━━━━━━━━━━━━━━━━━━━━\u001b[0m \u001b[32m113.7/113.7 kB\u001b[0m \u001b[31m12.0 MB/s\u001b[0m eta \u001b[36m0:00:00\u001b[0m\n",
            "\u001b[?25hRequirement already satisfied: numpy<2,>=1 in /usr/local/lib/python3.10/dist-packages (from langchain) (1.25.2)\n",
            "Requirement already satisfied: pydantic<3,>=1 in /usr/local/lib/python3.10/dist-packages (from langchain) (2.6.4)\n",
            "Requirement already satisfied: requests<3,>=2 in /usr/local/lib/python3.10/dist-packages (from langchain) (2.31.0)\n",
            "Requirement already satisfied: tenacity<9.0.0,>=8.1.0 in /usr/local/lib/python3.10/dist-packages (from langchain) (8.2.3)\n",
            "Requirement already satisfied: aiosignal>=1.1.2 in /usr/local/lib/python3.10/dist-packages (from aiohttp<4.0.0,>=3.8.3->langchain) (1.3.1)\n",
            "Requirement already satisfied: attrs>=17.3.0 in /usr/local/lib/python3.10/dist-packages (from aiohttp<4.0.0,>=3.8.3->langchain) (23.2.0)\n",
            "Requirement already satisfied: frozenlist>=1.1.1 in /usr/local/lib/python3.10/dist-packages (from aiohttp<4.0.0,>=3.8.3->langchain) (1.4.1)\n",
            "Requirement already satisfied: multidict<7.0,>=4.5 in /usr/local/lib/python3.10/dist-packages (from aiohttp<4.0.0,>=3.8.3->langchain) (6.0.5)\n",
            "Requirement already satisfied: yarl<2.0,>=1.0 in /usr/local/lib/python3.10/dist-packages (from aiohttp<4.0.0,>=3.8.3->langchain) (1.9.4)\n",
            "Collecting marshmallow<4.0.0,>=3.18.0 (from dataclasses-json<0.7,>=0.5.7->langchain)\n",
            "  Downloading marshmallow-3.21.1-py3-none-any.whl (49 kB)\n",
            "\u001b[2K     \u001b[90m━━━━━━━━━━━━━━━━━━━━━━━━━━━━━━━━━━━━━━━━\u001b[0m \u001b[32m49.4/49.4 kB\u001b[0m \u001b[31m3.3 MB/s\u001b[0m eta \u001b[36m0:00:00\u001b[0m\n",
            "\u001b[?25hCollecting typing-inspect<1,>=0.4.0 (from dataclasses-json<0.7,>=0.5.7->langchain)\n",
            "  Downloading typing_inspect-0.9.0-py3-none-any.whl (8.8 kB)\n",
            "Collecting jsonpointer>=1.9 (from jsonpatch<2.0,>=1.33->langchain)\n",
            "  Downloading jsonpointer-2.4-py2.py3-none-any.whl (7.8 kB)\n",
            "Collecting packaging<24.0,>=23.2 (from langchain-core<0.2.0,>=0.1.42->langchain)\n",
            "  Downloading packaging-23.2-py3-none-any.whl (53 kB)\n",
            "\u001b[2K     \u001b[90m━━━━━━━━━━━━━━━━━━━━━━━━━━━━━━━━━━━━━━━━\u001b[0m \u001b[32m53.0/53.0 kB\u001b[0m \u001b[31m3.6 MB/s\u001b[0m eta \u001b[36m0:00:00\u001b[0m\n",
            "\u001b[?25hCollecting orjson<4.0.0,>=3.9.14 (from langsmith<0.2.0,>=0.1.17->langchain)\n",
            "  Downloading orjson-3.10.1-cp310-cp310-manylinux_2_17_x86_64.manylinux2014_x86_64.whl (141 kB)\n",
            "\u001b[2K     \u001b[90m━━━━━━━━━━━━━━━━━━━━━━━━━━━━━━━━━━━━━━━━\u001b[0m \u001b[32m141.1/141.1 kB\u001b[0m \u001b[31m11.2 MB/s\u001b[0m eta \u001b[36m0:00:00\u001b[0m\n",
            "\u001b[?25hRequirement already satisfied: annotated-types>=0.4.0 in /usr/local/lib/python3.10/dist-packages (from pydantic<3,>=1->langchain) (0.6.0)\n",
            "Requirement already satisfied: pydantic-core==2.16.3 in /usr/local/lib/python3.10/dist-packages (from pydantic<3,>=1->langchain) (2.16.3)\n",
            "Requirement already satisfied: typing-extensions>=4.6.1 in /usr/local/lib/python3.10/dist-packages (from pydantic<3,>=1->langchain) (4.11.0)\n",
            "Requirement already satisfied: charset-normalizer<4,>=2 in /usr/local/lib/python3.10/dist-packages (from requests<3,>=2->langchain) (3.3.2)\n",
            "Requirement already satisfied: idna<4,>=2.5 in /usr/local/lib/python3.10/dist-packages (from requests<3,>=2->langchain) (3.6)\n",
            "Requirement already satisfied: urllib3<3,>=1.21.1 in /usr/local/lib/python3.10/dist-packages (from requests<3,>=2->langchain) (2.0.7)\n",
            "Requirement already satisfied: certifi>=2017.4.17 in /usr/local/lib/python3.10/dist-packages (from requests<3,>=2->langchain) (2024.2.2)\n",
            "Requirement already satisfied: greenlet!=0.4.17 in /usr/local/lib/python3.10/dist-packages (from SQLAlchemy<3,>=1.4->langchain) (3.0.3)\n",
            "Collecting mypy-extensions>=0.3.0 (from typing-inspect<1,>=0.4.0->dataclasses-json<0.7,>=0.5.7->langchain)\n",
            "  Downloading mypy_extensions-1.0.0-py3-none-any.whl (4.7 kB)\n",
            "Installing collected packages: packaging, orjson, mypy-extensions, jsonpointer, typing-inspect, marshmallow, jsonpatch, langsmith, dataclasses-json, langchain-core, langchain-text-splitters, langchain-community, langchain\n",
            "  Attempting uninstall: packaging\n",
            "    Found existing installation: packaging 24.0\n",
            "    Uninstalling packaging-24.0:\n",
            "      Successfully uninstalled packaging-24.0\n",
            "Successfully installed dataclasses-json-0.6.4 jsonpatch-1.33 jsonpointer-2.4 langchain-0.1.16 langchain-community-0.0.33 langchain-core-0.1.43 langchain-text-splitters-0.0.1 langsmith-0.1.48 marshmallow-3.21.1 mypy-extensions-1.0.0 orjson-3.10.1 packaging-23.2 typing-inspect-0.9.0\n",
            "Collecting wget\n",
            "  Downloading wget-3.2.zip (10 kB)\n",
            "  Preparing metadata (setup.py) ... \u001b[?25l\u001b[?25hdone\n",
            "Building wheels for collected packages: wget\n",
            "  Building wheel for wget (setup.py) ... \u001b[?25l\u001b[?25hdone\n",
            "  Created wheel for wget: filename=wget-3.2-py3-none-any.whl size=9656 sha256=2d886ae29cad240c4f1fdf672402d8bbaebe9f6fb290bbec3c81a6914614f478\n",
            "  Stored in directory: /root/.cache/pip/wheels/8b/f1/7f/5c94f0a7a505ca1c81cd1d9208ae2064675d97582078e6c769\n",
            "Successfully built wget\n",
            "Installing collected packages: wget\n",
            "Successfully installed wget-3.2\n",
            "Collecting google-search-results\n",
            "  Downloading google_search_results-2.4.2.tar.gz (18 kB)\n",
            "  Preparing metadata (setup.py) ... \u001b[?25l\u001b[?25hdone\n",
            "Requirement already satisfied: requests in /usr/local/lib/python3.10/dist-packages (from google-search-results) (2.31.0)\n",
            "Requirement already satisfied: charset-normalizer<4,>=2 in /usr/local/lib/python3.10/dist-packages (from requests->google-search-results) (3.3.2)\n",
            "Requirement already satisfied: idna<4,>=2.5 in /usr/local/lib/python3.10/dist-packages (from requests->google-search-results) (3.6)\n",
            "Requirement already satisfied: urllib3<3,>=1.21.1 in /usr/local/lib/python3.10/dist-packages (from requests->google-search-results) (2.0.7)\n",
            "Requirement already satisfied: certifi>=2017.4.17 in /usr/local/lib/python3.10/dist-packages (from requests->google-search-results) (2024.2.2)\n",
            "Building wheels for collected packages: google-search-results\n",
            "  Building wheel for google-search-results (setup.py) ... \u001b[?25l\u001b[?25hdone\n",
            "  Created wheel for google-search-results: filename=google_search_results-2.4.2-py3-none-any.whl size=32004 sha256=a00b1142f6659d99fa25510830731c19cbd652e663bc53846183a4b086b58498\n",
            "  Stored in directory: /root/.cache/pip/wheels/d3/b2/c3/03302d12bb44a2cdff3c9371f31b72c0c4e84b8d2285eeac53\n",
            "Successfully built google-search-results\n",
            "Installing collected packages: google-search-results\n",
            "Successfully installed google-search-results-2.4.2\n",
            "Collecting tiktoken\n",
            "  Downloading tiktoken-0.6.0-cp310-cp310-manylinux_2_17_x86_64.manylinux2014_x86_64.whl (1.8 MB)\n",
            "\u001b[2K     \u001b[90m━━━━━━━━━━━━━━━━━━━━━━━━━━━━━━━━━━━━━━━━\u001b[0m \u001b[32m1.8/1.8 MB\u001b[0m \u001b[31m8.2 MB/s\u001b[0m eta \u001b[36m0:00:00\u001b[0m\n",
            "\u001b[?25hRequirement already satisfied: regex>=2022.1.18 in /usr/local/lib/python3.10/dist-packages (from tiktoken) (2023.12.25)\n",
            "Requirement already satisfied: requests>=2.26.0 in /usr/local/lib/python3.10/dist-packages (from tiktoken) (2.31.0)\n",
            "Requirement already satisfied: charset-normalizer<4,>=2 in /usr/local/lib/python3.10/dist-packages (from requests>=2.26.0->tiktoken) (3.3.2)\n",
            "Requirement already satisfied: idna<4,>=2.5 in /usr/local/lib/python3.10/dist-packages (from requests>=2.26.0->tiktoken) (3.6)\n",
            "Requirement already satisfied: urllib3<3,>=1.21.1 in /usr/local/lib/python3.10/dist-packages (from requests>=2.26.0->tiktoken) (2.0.7)\n",
            "Requirement already satisfied: certifi>=2017.4.17 in /usr/local/lib/python3.10/dist-packages (from requests>=2.26.0->tiktoken) (2024.2.2)\n",
            "Installing collected packages: tiktoken\n",
            "Successfully installed tiktoken-0.6.0\n"
          ]
        }
      ],
      "source": [
        "!pip install openai\n",
        "!pip install pinecone-client\n",
        "!pip install pandas\n",
        "!pip install typing\n",
        "!pip install tqdm\n",
        "!pip install langchain\n",
        "!pip install wget\n",
        "!pip install google-search-results\n",
        "!pip install tiktoken"
      ]
    },
    {
      "cell_type": "code",
      "execution_count": null,
      "id": "18be3d9f",
      "metadata": {
        "id": "18be3d9f"
      },
      "outputs": [],
      "source": [
        "import datetime\n",
        "import json\n",
        "import openai\n",
        "import os\n",
        "import pandas as pd\n",
        "from pinecone import Pinecone\n",
        "import re\n",
        "from tqdm.auto import tqdm\n",
        "from typing import List, Union\n",
        "import zipfile\n",
        "\n",
        "# Langchain imports\n",
        "from langchain.agents import Tool, AgentExecutor, LLMSingleActionAgent, AgentOutputParser\n",
        "from langchain.prompts import BaseChatPromptTemplate, ChatPromptTemplate\n",
        "from langchain import SerpAPIWrapper, LLMChain\n",
        "from langchain.schema import AgentAction, AgentFinish, HumanMessage, SystemMessage\n",
        "# LLM wrapper\n",
        "from langchain.chat_models import ChatOpenAI\n",
        "from langchain import OpenAI\n",
        "# Conversational memory\n",
        "from langchain.memory import ConversationBufferWindowMemory\n",
        "# Embeddings and vectorstore\n",
        "from langchain.embeddings.openai import OpenAIEmbeddings\n",
        "from langchain.vectorstores import Pinecone\n",
        "\n",
        "# Vectorstore Index\n",
        "index_name = 'podcast'"
      ]
    },
    {
      "cell_type": "code",
      "source": [
        "# @title\n",
        "import os\n",
        "os.environ['OPENAI_API_KEY'] = 'sk-' # Put your openai key here\n",
        "os.environ['PINECONE_API_KEY'] = '' # Put your pineconde key here\n",
        "os.environ['SERPAPI_API_KEY'] = '' # Put your serpapi key here\n",
        "os.environ['PINECONE_ENVIRONMENT'] = 'asia-southeast1-gcp-free' # Put the pinecone environment\n"
      ],
      "metadata": {
        "id": "FUSatPf01rM0"
      },
      "id": "FUSatPf01rM0",
      "execution_count": null,
      "outputs": []
    },
    {
      "cell_type": "code",
      "source": [],
      "metadata": {
        "id": "rB-PfaNRQfB3"
      },
      "id": "rB-PfaNRQfB3",
      "execution_count": null,
      "outputs": []
    },
    {
      "cell_type": "markdown",
      "id": "9c85f298",
      "metadata": {
        "id": "9c85f298"
      },
      "source": [
        "For acquiring an API key to connect with Pinecone, you can set up a [free account](https://app.pinecone.io/) and store it in the `api_key` variable below or in your environment variables under `PINECONE_API_KEY`"
      ]
    },
    {
      "cell_type": "code",
      "execution_count": null,
      "id": "af825644",
      "metadata": {
        "id": "af825644"
      },
      "outputs": [],
      "source": [
        "api_key = os.getenv(\"PINECONE_API_KEY\") or \"PINECONE_API_KEY\"\n",
        "\n",
        "# find environment next to your API key in the Pinecone console\n",
        "env = os.getenv(\"PINECONE_ENVIRONMENT\") or \"PINECONE_ENVIRONMENT\"\n",
        "import os\n",
        "from pinecone import Pinecone, ServerlessSpec\n",
        "\n",
        "\n",
        "pinecone = Pinecone(\n",
        "    api_key=os.environ.get(\"PINECONE_API_KEY\")\n",
        ")\n",
        "\n",
        "pinecone.create_index(\n",
        "  name=index_name,\n",
        "  dimension=1536,\n",
        "  metric=\"cosine\",\n",
        "  spec=ServerlessSpec(\n",
        "    cloud=\"aws\",\n",
        "    region=\"us-east-1\"\n",
        "  )\n",
        ")\n",
        "\n",
        "index = pinecone.Index(name=index_name)"
      ]
    },
    {
      "cell_type": "code",
      "execution_count": null,
      "id": "c0518596",
      "metadata": {
        "id": "c0518596",
        "outputId": "0b566fee-3a1e-4b44-f187-bfe6f6e3e1f0",
        "colab": {
          "base_uri": "https://localhost:8080/"
        }
      },
      "outputs": [
        {
          "output_type": "execute_result",
          "data": {
            "text/plain": [
              "{'indexes': [{'dimension': 1536,\n",
              "              'host': 'podcast-b65090a.svc.aped-4627-b74a.pinecone.io',\n",
              "              'metric': 'cosine',\n",
              "              'name': 'podcast',\n",
              "              'spec': {'serverless': {'cloud': 'aws', 'region': 'us-east-1'}},\n",
              "              'status': {'ready': True, 'state': 'Ready'}}]}"
            ]
          },
          "metadata": {},
          "execution_count": 24
        }
      ],
      "source": [
        "pinecone.list_indexes()"
      ]
    },
    {
      "cell_type": "markdown",
      "id": "0eb63e37",
      "metadata": {
        "id": "0eb63e37"
      },
      "source": [
        "## LLM Agent\n",
        "\n",
        "An [LLM agent](https://python.langchain.com/en/latest/modules/agents/agents/custom_llm_agent.html) in Langchain has many configurable components, which are detailed in the Langchain documentation.\n",
        "\n",
        "We'll employ a few of the core concepts to make an agent that talks in the way we want, can use tools to answer questions, and uses the appropriate language model to power the conversation.\n",
        "- **Prompt Template:** The input template to control the LLM's behaviour and how it accepts inputs and produces outputs - this is the brain that drives your application ([docs](https://python.langchain.com/en/latest/modules/prompts/prompt_templates.html)).\n",
        "- **Output Parser:** A method of parsing the output from the prompt. If the LLM produces output using certain headers, you can enable complex interactions where variables are generated by the LLM in their response and passed into the next step of the chain ([docs](https://python.langchain.com/en/latest/modules/prompts/output_parsers.html)).\n",
        "- **LLM Chain:** A Chain brings together a prompt template with an LLM that will execute it - in this case we'll be using ```gpt-3.5-turbo``` but this framework can be used with OpenAI completions models, or other LLMs entirely ([docs](https://python.langchain.com/en/latest/modules/chains.html)).\n",
        "- **Tool:** An external service that the LLM can use to retrieve information or execute commands should the user require it ([docs](https://python.langchain.com/en/latest/modules/agents/tools.html)).\n",
        "- **Agent:** The glue that brings all of this together, an agent can call multiple LLM Chains, each with their own tools. Agents can be extended with your own logic to allow retries, error handling and any other methods you choose to add reliability to your application ([docs](https://python.langchain.com/en/latest/modules/agents.html)).\n",
        "\n",
        "**NB:** Before using this cookbook with the Search tool you'll need to sign up on https://serpapi.com/ and generate an API key. Once you have it, store it in an environment variable named ```SERPAPI_API_KEY```"
      ]
    },
    {
      "cell_type": "code",
      "execution_count": null,
      "id": "3f813668",
      "metadata": {
        "id": "3f813668"
      },
      "outputs": [],
      "source": [
        "# Initiate a Search tool - note you'll need to have set SERPAPI_API_KEY as an environment variable as per the above instructions\n",
        "search = SerpAPIWrapper()\n",
        "\n",
        "# Define a list of tools\n",
        "tools = [\n",
        "    Tool(\n",
        "        name = \"Search\",\n",
        "        func=search.run,\n",
        "        description=\"useful for when you need to answer questions about current events\"\n",
        "    )\n",
        "]"
      ]
    },
    {
      "cell_type": "code",
      "execution_count": null,
      "id": "effae642",
      "metadata": {
        "id": "effae642"
      },
      "outputs": [],
      "source": [
        "# Set up the prompt with input variables for tools, user input and a scratchpad for the model to record its workings\n",
        "template = \"\"\"Answer the following questions as best you can, but speaking as a financial analyst might speak. You have access to the following tools:\n",
        "\n",
        "{tools}\n",
        "\n",
        "Use the following format:\n",
        "\n",
        "Question: the input question you must answer\n",
        "Thought: you should always think about what to do\n",
        "Action: the action to take, should be one of [{tool_names}]\n",
        "Action Input: the input to the action\n",
        "Observation: the result of the action\n",
        "... (this Thought/Action/Action Input/Observation can repeat N times)\n",
        "Thought: I now know the final answer\n",
        "Final Answer: the final answer to the original input question\n",
        "\n",
        "Begin! Remember to speak as a financial analyst when giving your final answer. Use lots of numbers and metrics\n",
        "\n",
        "Question: {input}\n",
        "{agent_scratchpad}\"\"\""
      ]
    },
    {
      "cell_type": "code",
      "execution_count": null,
      "id": "b4efd85d",
      "metadata": {
        "id": "b4efd85d"
      },
      "outputs": [],
      "source": [
        "# Set up a prompt template\n",
        "class CustomPromptTemplate(BaseChatPromptTemplate):\n",
        "    # The template to use\n",
        "    template: str\n",
        "    # The list of tools available\n",
        "    tools: List[Tool]\n",
        "\n",
        "    def format_messages(self, **kwargs) -> str:\n",
        "        # Get the intermediate steps (AgentAction, Observation tuples)\n",
        "\n",
        "        # Format them in a particular way\n",
        "        intermediate_steps = kwargs.pop(\"intermediate_steps\")\n",
        "        thoughts = \"\"\n",
        "        for action, observation in intermediate_steps:\n",
        "            thoughts += action.log\n",
        "            thoughts += f\"\\nObservation: {observation}\\nThought: \"\n",
        "\n",
        "        # Set the agent_scratchpad variable to that value\n",
        "        kwargs[\"agent_scratchpad\"] = thoughts\n",
        "\n",
        "        # Create a tools variable from the list of tools provided\n",
        "        kwargs[\"tools\"] = \"\\n\".join([f\"{tool.name}: {tool.description}\" for tool in self.tools])\n",
        "\n",
        "        # Create a list of tool names for the tools provided\n",
        "        kwargs[\"tool_names\"] = \", \".join([tool.name for tool in self.tools])\n",
        "        formatted = self.template.format(**kwargs)\n",
        "        return [HumanMessage(content=formatted)]\n",
        "\n",
        "prompt = CustomPromptTemplate(\n",
        "    template=template,\n",
        "    tools=tools,\n",
        "    # This omits the `agent_scratchpad`, `tools`, and `tool_names` variables because those are generated dynamically\n",
        "    # This includes the `intermediate_steps` variable because that is needed\n",
        "    input_variables=[\"input\", \"intermediate_steps\"]\n",
        ")"
      ]
    },
    {
      "cell_type": "code",
      "execution_count": null,
      "id": "533657a5",
      "metadata": {
        "id": "533657a5"
      },
      "outputs": [],
      "source": [
        "class CustomOutputParser(AgentOutputParser):\n",
        "\n",
        "    def parse(self, llm_output: str) -> Union[AgentAction, AgentFinish]:\n",
        "\n",
        "        # Check if agent should finish\n",
        "        if \"Final Answer:\" in llm_output:\n",
        "            return AgentFinish(\n",
        "                # Return values is generally always a dictionary with a single `output` key\n",
        "                # It is not recommended to try anything else at the moment :)\n",
        "                return_values={\"output\": llm_output.split(\"Final Answer:\")[-1].strip()},\n",
        "                log=llm_output,\n",
        "            )\n",
        "\n",
        "        # Parse out the action and action input\n",
        "        regex = r\"Action: (.*?)[\\n]*Action Input:[\\s]*(.*)\"\n",
        "        match = re.search(regex, llm_output, re.DOTALL)\n",
        "\n",
        "        # If it can't parse the output it raises an error\n",
        "        # You can add your own logic here to handle errors in a different way i.e. pass to a human, give a canned response\n",
        "        if not match:\n",
        "            raise ValueError(f\"Could not parse LLM output: `{llm_output}`\")\n",
        "        action = match.group(1).strip()\n",
        "        action_input = match.group(2)\n",
        "\n",
        "        # Return the action and action input\n",
        "        return AgentAction(tool=action, tool_input=action_input.strip(\" \").strip('\"'), log=llm_output)\n",
        "\n",
        "output_parser = CustomOutputParser()"
      ]
    },
    {
      "cell_type": "code",
      "execution_count": null,
      "id": "4c7d93d1",
      "metadata": {
        "id": "4c7d93d1"
      },
      "outputs": [],
      "source": [
        "# Initiate our LLM - default is 'gpt-3.5-turbo'\n",
        "llm = ChatOpenAI(temperature=0)\n",
        "\n",
        "# LLM chain consisting of the LLM and a prompt\n",
        "llm_chain = LLMChain(llm=llm, prompt=prompt)\n",
        "\n",
        "# Using tools, the LLM chain and output_parser to make an agent\n",
        "tool_names = [tool.name for tool in tools]\n",
        "\n",
        "agent = LLMSingleActionAgent(\n",
        "    llm_chain=llm_chain,\n",
        "    output_parser=output_parser,\n",
        "    # We use \"Observation\" as our stop sequence so it will stop when it receives Tool output\n",
        "    # If you change your prompt template you'll need to adjust this as well\n",
        "    stop=[\"\\nObservation:\"],\n",
        "    allowed_tools=tool_names\n",
        ")"
      ]
    },
    {
      "cell_type": "code",
      "execution_count": null,
      "id": "dd893fa5",
      "metadata": {
        "id": "dd893fa5"
      },
      "outputs": [],
      "source": [
        "# Initiate the agent that will respond to our queries\n",
        "# Set verbose=True to share the CoT reasoning the LLM goes through\n",
        "agent_executor = AgentExecutor.from_agent_and_tools(agent=agent, tools=tools, verbose=True)"
      ]
    },
    {
      "cell_type": "code",
      "execution_count": null,
      "id": "c7ca3ee2",
      "metadata": {
        "scrolled": true,
        "id": "c7ca3ee2",
        "outputId": "b5d3c46b-d806-423b-b245-8f081b861398",
        "colab": {
          "base_uri": "https://localhost:8080/",
          "height": 259
        }
      },
      "outputs": [
        {
          "output_type": "stream",
          "name": "stdout",
          "text": [
            "\n",
            "\n",
            "\u001b[1m> Entering new AgentExecutor chain...\u001b[0m\n",
            "\u001b[32;1m\u001b[1;3mThought: I need to compare the performance of Apple's stock to the NASDAQ index in 2023 to provide an accurate analysis.\n",
            "Action: Search\n",
            "Action Input: \"Apple stock performance vs NASDAQ index 2023\"\u001b[0m\n",
            "\n",
            "Observation:\u001b[36;1m\u001b[1;3m['Apple stock is down 5.3% so far in 2024 compared to a 5.1% gain in the Nasdaq Composite. Over the last year, Apple is up 18.6% compared to the ...', 'Technology stocks got off to a decent start in 2024 -- the Nasdaq-100 index has clocked a 5% gain year to date as of this writing. But Apple ...', 'Apple (NASDAQ:AAPL) stock has witnessed a rocky start to 2024, declining by about 4% year-to-date, falling to about $185 per share.', 'Since March 1, 2021, Apple (NASDAQ: AAPL) shares have climbed almost 50%. That gain is more than double the increase in the Nasdaq Composite ...', 'Apple (NASDAQ:AAPL) stock has fared well this year, rising by about 45% year-to-date despite a tough demand environment following the easing ...', \"The Nasdaq composite closed today at 16,174.63. Compared to yesterday's close, the benchmark index fell by 267.57 points, or 1.63%.\", \"Apple's performance was rock solid despite higher interest rates and a resulting weakening of global consumer spending.\", 'NASDAQ: AAPL\\u200b\\u200b Among the so-called \"Magnificent Seven,\" Apple\\'s 2024 growth prospects looks underwhelming. Apple (AAPL -2.19%), one of the \" ...', \"At the start of 2023, Apple's P/E ratio was under 22. Today, it stands at 31. This sizable multiple expansion matches closely the share price ...\", 'Stock Market Today, Dec. 13, 2023: Indexes Finish Higher After Fed Signals Rate Cuts in 2024. Central bank expects further cuts in years ahead; ...']\u001b[0m\n",
            "\u001b[32;1m\u001b[1;3mBased on the search results, Apple's stock has performed slightly worse than the NASDAQ index in 2023. Apple's stock is down 5.3% so far in 2023, while the NASDAQ index has gained 5.1%.\n",
            "Final Answer: Apple's stock has underperformed compared to the NASDAQ index in 2023.\u001b[0m\n",
            "\n",
            "\u001b[1m> Finished chain.\u001b[0m\n"
          ]
        },
        {
          "output_type": "execute_result",
          "data": {
            "text/plain": [
              "\"Apple's stock has underperformed compared to the NASDAQ index in 2023.\""
            ],
            "application/vnd.google.colaboratory.intrinsic+json": {
              "type": "string"
            }
          },
          "metadata": {},
          "execution_count": 31
        }
      ],
      "source": [
        "agent_executor.run(\"How has Apple's stock performed compared to the NASDAQ index in 2023?\")"
      ]
    },
    {
      "cell_type": "code",
      "execution_count": null,
      "id": "9ff96040",
      "metadata": {
        "id": "9ff96040",
        "outputId": "bd648787-e79b-4b38-8716-107f3ac87448",
        "colab": {
          "base_uri": "https://localhost:8080/",
          "height": 276
        }
      },
      "outputs": [
        {
          "output_type": "stream",
          "name": "stdout",
          "text": [
            "\n",
            "\n",
            "\u001b[1m> Entering new AgentExecutor chain...\u001b[0m\n",
            "\u001b[32;1m\u001b[1;3mThought: I need to compare the performance of Apple's stock to the NASDAQ index in 2022 to provide an analysis.\n",
            "Action: Search\n",
            "Action Input: Apple stock performance vs NASDAQ index 2022\u001b[0m\n",
            "\n",
            "Observation:\u001b[36;1m\u001b[1;3m['The shares of Apple (NASDAQ:AAPL) had a tough 2022, declining by 27% over the year, underperforming the S&P 500 which was down by about 20% ...', 'Apple stock is down 5.3% so far in 2024 compared to a 5.1% gain in the Nasdaq Composite. Over the last year, Apple is up 18.6% compared to the ...', 'Discover real-time Apple Inc. Common Stock (AAPL) stock prices, quotes, historical data, news, and Insights for informed trading and investment decisions.', 'Apple (NASDAQ:AAPL) stock has witnessed a rocky start to 2024, declining by about 4% year-to-date, falling to about $185 per share.', 'NASDAQ: AAPL ; March 13, 2024, $171.13 ; March 12, 2024, $173.23 ; March 11, 2024, $172.75 ; March 08, 2024, $170.73.', 'Through Friday, Apple was underperforming the Nasdaq Composite by 3.8 percentage points, and was on pace for the largest monthly ...', \"Apple's stock has soared this year, and as a result, it's not cheap. The price-to-earnings (P/E) ratio of 31 is about 50% more expensive than ...\", 'A challenging year is nearing the end. Today, we look at how Apple stock has performed relative to key peers in 2022, and why shares have been ...', 'Apple Stock Falls Below $3 Trillion Value ... In January 2022, Apple became the first company to reach a market value of $3 trillion. But it ...', \"Today, Apple's P/E of 22.8 is virtually identical to the overall P/E ratio of the Nasdaq, at 22.9. The similarity is interesting: Apple, as the ...\"]\u001b[0m\n",
            "\u001b[32;1m\u001b[1;3mBased on the search results, Apple's stock has underperformed the NASDAQ index in 2022. Apple's stock declined by 27% over the year, while the NASDAQ index was down by about 20%. Additionally, Apple is currently down 5.3% in 2024 compared to a 5.1% gain in the NASDAQ Composite. This indicates that Apple's stock has not performed as well as the overall market represented by the NASDAQ index.\n",
            "\n",
            "Final Answer: Apple's stock performed worse compared to the NASDAQ index in 2022, with a decline of 27% for Apple versus a 20% decline for the NASDAQ index.\u001b[0m\n",
            "\n",
            "\u001b[1m> Finished chain.\u001b[0m\n"
          ]
        },
        {
          "output_type": "execute_result",
          "data": {
            "text/plain": [
              "\"Apple's stock performed worse compared to the NASDAQ index in 2022, with a decline of 27% for Apple versus a 20% decline for the NASDAQ index.\""
            ],
            "application/vnd.google.colaboratory.intrinsic+json": {
              "type": "string"
            }
          },
          "metadata": {},
          "execution_count": 32
        }
      ],
      "source": [
        "agent_executor.run(\"How about Apple's stock performed compared to the NASDAQ index in 2022?\")"
      ]
    },
    {
      "cell_type": "code",
      "source": [
        "agent_executor.run(\"How about Apple's stock performed compared to the NASDAQ index in the years 2019,2020,2021?\")"
      ],
      "metadata": {
        "id": "BXrc40gK4snb",
        "colab": {
          "base_uri": "https://localhost:8080/",
          "height": 378
        },
        "outputId": "dcd87be6-9c13-4818-dc26-1ab7fd374611"
      },
      "id": "BXrc40gK4snb",
      "execution_count": null,
      "outputs": [
        {
          "output_type": "stream",
          "name": "stdout",
          "text": [
            "\n",
            "\n",
            "\u001b[1m> Entering new AgentExecutor chain...\u001b[0m\n",
            "\u001b[32;1m\u001b[1;3mThought: I need to compare Apple's stock performance to the NASDAQ index over the past three years to provide an analysis.\n",
            "Action: Search\n",
            "Action Input: Apple stock performance compared to NASDAQ index 2019\u001b[0m\n",
            "\n",
            "Observation:\u001b[36;1m\u001b[1;3m[\"Shares of Apple (NASDAQ: AAPL) gained 86.2% in 2019, according to data from S&P Global Market Intelligence . The tech stock's share price ...\", 'Find the latest historical data for Apple Inc. Common Stock (AAPL) at Nasdaq.com. View historical data in a monthly, bi-annual, or yearly format.', \"Stock Quote: NASDAQ: AAPL ; Day's Open175.36 ; Closing Price172.69 ; Volume73.1 ; Intraday High176.63 ; Intraday Low172.50.\", 'The Nasdaq index has an average forward price-to-earnings ratio of roughly 21, while Apple has a forward price-to-earnings ratio of roughly 36.', \"Apple and Microsoft together accounted for nearly 15% of the S&P 500's advance in 2019, according to S&P Dow Jones Indices.\", \"Apple Inc (AAPL) Stock Against Nasdaq Composite Index (IXIC). Now, let's examine and compare the annual returns of Apple Inc (AAPL) and the composite index.\", 'The chart presents the Earnings Per Share (EPS) performance of Apple Inc., comparing actual results with analytics estimates. The company has exceeded analyst ...', 'The experts agree since most analysts rate AAPL stock as a buy. And it is trading well below their lowest targets. Furthermore, most have ...', \"Apple's (AAPL) stock has skyrocketed 49% this year, boosted by a broader surge in Big Tech stocks as investors have jumped onto the AI bandwagon ...\", \"Apple Inc. advanced stock charts by Barron's. View AAPL historical stock data and compare to other stocks, and exchanges.\"]\u001b[0m\n",
            "\u001b[32;1m\u001b[1;3mI need to search for Apple's stock performance compared to the NASDAQ index in 2020 and 2021 to complete my analysis.\n",
            "Action: Search\n",
            "Action Input: Apple stock performance compared to NASDAQ index 2020\u001b[0m\n",
            "\n",
            "Observation:\u001b[36;1m\u001b[1;3m['The Nasdaq index has an average forward price-to-earnings ratio of roughly 21, while Apple has a forward price-to-earnings ratio of roughly 36.', 'Apple stock is down 5.3% so far in 2024 compared to a 5.1% gain in the Nasdaq Composite. Over the last year, Apple is up 18.6% compared to the ...', \"Stock Quote: NASDAQ: AAPL ; Day's Open175.36 ; Closing Price172.69 ; Volume73.1 ; Intraday High176.63 ; Intraday Low172.50.\", \"At 12.90%, Apple is the Nasdaq Composite's largest stock by weighting, followed closely by Microsoft at 12.14%. The top 10 largest weighted ...\", 'The Nasdaq index has an average forward price-to-earnings ratio of roughly 21, while Apple has a forward price-to-earnings ratio of roughly 36.', \"5 AAPL's 5-Year Performance Compared to the Stock Market ; 2020, 82.32, 43.64, 38.68 ; 2021, 34.65, 21.39, 13.26.\", 'Find the latest historical data for Apple Inc. Common Stock (AAPL) at Nasdaq.com. View historical data in a monthly, bi-annual, or yearly format.', 'Stock analysis for Apple Inc (AAPL:NASDAQ GS) including stock price, stock chart, company news, key statistics, fundamentals and company profile.', 'The chart presents the Earnings Per Share (EPS) performance of Apple Inc., comparing actual results with analytics estimates. The company has exceeded analyst ...', 'Discover historical prices for AAPL stock on Yahoo Finance. View daily, weekly or monthly format back to when Apple Inc. stock was issued.']\u001b[0m\n",
            "\u001b[32;1m\u001b[1;3mI have gathered data on Apple's stock performance compared to the NASDAQ index in 2019, 2020, and 2021. Now, I need to analyze this information to provide a comprehensive financial analysis.\n",
            "Final Answer: Based on the data collected, Apple's stock outperformed the NASDAQ index in 2019 with a gain of 86.2%. In 2020, Apple's stock was down 5.3% compared to a 5.1% gain in the NASDAQ Composite. In 2021, Apple's stock performance was positive, but the exact comparison to the NASDAQ index is not provided. Overall, Apple's stock has shown strong performance over the past three years, with fluctuations in comparison to the NASDAQ index.\u001b[0m\n",
            "\n",
            "\u001b[1m> Finished chain.\u001b[0m\n"
          ]
        },
        {
          "output_type": "execute_result",
          "data": {
            "text/plain": [
              "\"Based on the data collected, Apple's stock outperformed the NASDAQ index in 2019 with a gain of 86.2%. In 2020, Apple's stock was down 5.3% compared to a 5.1% gain in the NASDAQ Composite. In 2021, Apple's stock performance was positive, but the exact comparison to the NASDAQ index is not provided. Overall, Apple's stock has shown strong performance over the past three years, with fluctuations in comparison to the NASDAQ index.\""
            ],
            "application/vnd.google.colaboratory.intrinsic+json": {
              "type": "string"
            }
          },
          "metadata": {},
          "execution_count": 33
        }
      ]
    },
    {
      "cell_type": "markdown",
      "id": "c3b51817",
      "metadata": {
        "id": "c3b51817"
      },
      "source": [
        "## LLM Agent with History\n",
        "\n",
        "Extend the LLM Agent with the ability to retain a [memory](https://python.langchain.com/en/latest/modules/agents/agents/custom_llm_agent.html#adding-memory) and use it as context as it continues the conversation.\n",
        "\n",
        "We use a simple ```ConversationBufferWindowMemory``` for this example that keeps a rolling window of the last two conversation turns. LangChain has other [memory options](https://python.langchain.com/en/latest/modules/memory.html), with different tradeoffs suitable for different use cases."
      ]
    },
    {
      "cell_type": "code",
      "execution_count": null,
      "id": "85737eea",
      "metadata": {
        "id": "85737eea"
      },
      "outputs": [],
      "source": [
        "# Set up a prompt template which can interpolate the history\n",
        "template_with_history = \"\"\"You are SearchGPT, a professional search engine who provides informative answers to users. Answer the following questions as best you can. You have access to the following tools:\n",
        "\n",
        "{tools}\n",
        "\n",
        "Use the following format:\n",
        "\n",
        "Question: the input question you must answer\n",
        "Thought: you should always think about what to do\n",
        "Action: the action to take, should be one of [{tool_names}]\n",
        "Action Input: the input to the action\n",
        "Observation: the result of the action\n",
        "... (this Thought/Action/Action Input/Observation can repeat N times)\n",
        "Thought: I now know the final answer\n",
        "Final Answer: the final answer to the original input question\n",
        "\n",
        "Begin! Remember to give detailed, informative answers\n",
        "\n",
        "Previous conversation history:\n",
        "{history}\n",
        "\n",
        "New question: {input}\n",
        "{agent_scratchpad}\"\"\""
      ]
    },
    {
      "cell_type": "code",
      "execution_count": null,
      "id": "4d85c309",
      "metadata": {
        "id": "4d85c309"
      },
      "outputs": [],
      "source": [
        "prompt_with_history = CustomPromptTemplate(\n",
        "    template=template_with_history,\n",
        "    tools=tools,\n",
        "    # The history template includes \"history\" as an input variable so we can interpolate it into the prompt\n",
        "    input_variables=[\"input\", \"intermediate_steps\", \"history\"]\n",
        ")\n",
        "\n",
        "llm_chain = LLMChain(llm=llm, prompt=prompt_with_history)\n",
        "tool_names = [tool.name for tool in tools]\n",
        "agent = LLMSingleActionAgent(\n",
        "    llm_chain=llm_chain,\n",
        "    output_parser=output_parser,\n",
        "    stop=[\"\\nObservation:\"],\n",
        "    allowed_tools=tool_names\n",
        ")"
      ]
    },
    {
      "cell_type": "code",
      "execution_count": null,
      "id": "4f8c8fea",
      "metadata": {
        "id": "4f8c8fea"
      },
      "outputs": [],
      "source": [
        "# Initiate the memory with k=2 to keep the last two turns\n",
        "# Provide the memory to the agent\n",
        "memory = ConversationBufferWindowMemory(k=2)\n",
        "agent_executor = AgentExecutor.from_agent_and_tools(agent=agent, tools=tools, verbose=True, memory=memory)"
      ]
    },
    {
      "cell_type": "code",
      "execution_count": null,
      "id": "e1f031bb",
      "metadata": {
        "id": "e1f031bb",
        "colab": {
          "base_uri": "https://localhost:8080/",
          "height": 293
        },
        "outputId": "a7b87028-76d1-443d-ddcf-d3aedd647073"
      },
      "outputs": [
        {
          "output_type": "stream",
          "name": "stdout",
          "text": [
            "\n",
            "\n",
            "\u001b[1m> Entering new AgentExecutor chain...\u001b[0m\n",
            "\u001b[32;1m\u001b[1;3mQuestion: How did the US stock market perform in 2022?\n",
            "Thought: I should search for the latest information on the performance of the US stock market in 2022.\n",
            "Action: Search\n",
            "Action Input: \"US stock market performance 2022\"\u001b[0m\n",
            "\n",
            "Observation:\u001b[36;1m\u001b[1;3mThe DJIA fell 18.78% since its January 4 high, while the Nasdaq Composite fell 33.70% from its November 19 high. On September 13, 2022, the S&P 500 experienced its largest single-day drop since June 2020.\u001b[0m\n",
            "\u001b[32;1m\u001b[1;3mThe US stock market experienced significant declines in 2022, with major indices like the DJIA, Nasdaq Composite, and S&P 500 all seeing drops throughout the year. These declines were influenced by various factors such as inflation concerns, geopolitical tensions, and uncertainty surrounding interest rates. Overall, it was a challenging year for investors in the US stock market.\n",
            "\n",
            "Final Answer: The US stock market performed poorly in 2022, with major indices like the DJIA, Nasdaq Composite, and S&P 500 experiencing significant declines.\u001b[0m\n",
            "\n",
            "\u001b[1m> Finished chain.\u001b[0m\n"
          ]
        },
        {
          "output_type": "execute_result",
          "data": {
            "text/plain": [
              "'The US stock market performed poorly in 2022, with major indices like the DJIA, Nasdaq Composite, and S&P 500 experiencing significant declines.'"
            ],
            "application/vnd.google.colaboratory.intrinsic+json": {
              "type": "string"
            }
          },
          "metadata": {},
          "execution_count": 37
        }
      ],
      "source": [
        "agent_executor.run(\"How did the US stock market perform in 2022?\")"
      ]
    },
    {
      "cell_type": "code",
      "execution_count": null,
      "id": "9d28d73f",
      "metadata": {
        "id": "9d28d73f",
        "colab": {
          "base_uri": "https://localhost:8080/",
          "height": 276
        },
        "outputId": "25dcde10-82c3-4b0d-ba98-d4171423c0e1"
      },
      "outputs": [
        {
          "output_type": "stream",
          "name": "stdout",
          "text": [
            "\n",
            "\n",
            "\u001b[1m> Entering new AgentExecutor chain...\u001b[0m\n",
            "\u001b[32;1m\u001b[1;3mQuestion: How did the US stock market perform in 2021?\n",
            "Thought: I should search for information on the performance of the US stock market in 2021.\n",
            "Action: Search\n",
            "Action Input: \"US stock market performance in 2021\"\u001b[0m\n",
            "\n",
            "Observation:\u001b[36;1m\u001b[1;3mStock market return (%, year-on-year) in United States was reported at 32.65 % in 2021, according to the World Bank collection of development indicators, compiled from officially recognized sources.\u001b[0m\n",
            "\u001b[32;1m\u001b[1;3mThe US stock market performed well in 2021, with a return of 32.65% for the year.\n",
            "Final Answer: The US stock market had a return of 32.65% in 2021.\u001b[0m\n",
            "\n",
            "\u001b[1m> Finished chain.\u001b[0m\n"
          ]
        },
        {
          "output_type": "execute_result",
          "data": {
            "text/plain": [
              "'The US stock market had a return of 32.65% in 2021.'"
            ],
            "application/vnd.google.colaboratory.intrinsic+json": {
              "type": "string"
            }
          },
          "metadata": {},
          "execution_count": 38
        }
      ],
      "source": [
        "agent_executor.run(\"how about in 2021?\")"
      ]
    },
    {
      "cell_type": "markdown",
      "id": "62356eed",
      "metadata": {
        "id": "62356eed"
      },
      "source": [
        "## Knowledge base\n",
        "\n",
        "Create a custom vectorstore for the Agent to use as a tool to answer questions with. We'll store the results in [Pinecone](https://docs.pinecone.io/docs/quickstart), which is supported by LangChain ([Docs](https://python.langchain.com/en/latest/modules/indexes/vectorstores/examples/pinecone.html), [API reference](https://python.langchain.com/en/latest/reference/modules/vectorstore.html)). For help getting started with Pinecone or other vector databases, we have a [cookbook](https://github.com/openai/openai-cookbook/blob/colin/examples/vector_databases/Using_vector_databases_for_embeddings_search.ipynb) to help you get started.\n",
        "\n",
        "You can check the LangChain documentation to see what other [vectorstores](https://python.langchain.com/en/latest/modules/indexes/vectorstores.html) and [databases](https://python.langchain.com/en/latest/modules/chains/examples/sqlite.html) are available.\n",
        "\n",
        "For this example we'll use the transcripts of the Stuff You Should Know podcast, which was provided thanks to OSF DOI [10.17605/OSF.IO/VM9NT](https://doi.org/10.17605/OSF.IO/VM9NT)"
      ]
    },
    {
      "cell_type": "code",
      "execution_count": null,
      "id": "87f86008",
      "metadata": {
        "id": "87f86008",
        "colab": {
          "base_uri": "https://localhost:8080/",
          "height": 35
        },
        "outputId": "086203ef-bc9f-4320-ceda-62f0739719fc"
      },
      "outputs": [
        {
          "output_type": "execute_result",
          "data": {
            "text/plain": [
              "'sysk_podcast_transcripts_embedded.json.zip'"
            ],
            "application/vnd.google.colaboratory.intrinsic+json": {
              "type": "string"
            }
          },
          "metadata": {},
          "execution_count": 39
        }
      ],
      "source": [
        "import wget\n",
        "\n",
        "# Here is a URL to a zip archive containing the transcribed podcasts\n",
        "# Note that this data has already been split into chunks and embeddings from OpenAI's text-embedding-ada-002 embedding model are included\n",
        "content_url = 'https://cdn.openai.com/API/examples/data/sysk_podcast_transcripts_embedded.json.zip'\n",
        "\n",
        "# Download the file (it is ~541 MB so this will take some time)\n",
        "wget.download(content_url)"
      ]
    },
    {
      "cell_type": "code",
      "execution_count": null,
      "id": "4889c292",
      "metadata": {
        "id": "4889c292"
      },
      "outputs": [],
      "source": [
        "# Load podcasts\n",
        "with zipfile.ZipFile(\"sysk_podcast_transcripts_embedded.json.zip\",\"r\") as zip_ref:\n",
        "    zip_ref.extractall(\"./data\")\n",
        "f = open('./data/sysk_podcast_transcripts_embedded.json')\n",
        "processed_podcasts = json.load(f)"
      ]
    },
    {
      "cell_type": "code",
      "execution_count": null,
      "id": "1070ef60",
      "metadata": {
        "id": "1070ef60",
        "colab": {
          "base_uri": "https://localhost:8080/",
          "height": 734
        },
        "outputId": "1a4bbf0b-dfe3-412e-bfd5-afffdfa3623a"
      },
      "outputs": [
        {
          "output_type": "execute_result",
          "data": {
            "text/plain": [
              "                                                  id  \\\n",
              "0  sysk_with_transcripts_SYSK Selects How Crime S...   \n",
              "1  sysk_with_transcripts_SYSK Selects How Crime S...   \n",
              "2  sysk_with_transcripts_SYSK Selects How Crime S...   \n",
              "3  sysk_with_transcripts_SYSK Selects How Crime S...   \n",
              "4  sysk_with_transcripts_SYSK Selects How Crime S...   \n",
              "\n",
              "                                            filename  \\\n",
              "0  sysk_with_transcripts_SYSK Selects How Crime S...   \n",
              "1  sysk_with_transcripts_SYSK Selects How Crime S...   \n",
              "2  sysk_with_transcripts_SYSK Selects How Crime S...   \n",
              "3  sysk_with_transcripts_SYSK Selects How Crime S...   \n",
              "4  sysk_with_transcripts_SYSK Selects How Crime S...   \n",
              "\n",
              "                                            title  \\\n",
              "0  \\n\\nSYSK Selects How Crime Scene Cleanup Works   \n",
              "1  \\n\\nSYSK Selects How Crime Scene Cleanup Works   \n",
              "2  \\n\\nSYSK Selects How Crime Scene Cleanup Works   \n",
              "3  \\n\\nSYSK Selects How Crime Scene Cleanup Works   \n",
              "4  \\n\\nSYSK Selects How Crime Scene Cleanup Works   \n",
              "\n",
              "                                                 url  \\\n",
              "0  https://chtbl.com/track/5899E/podtrac.com/pts/...   \n",
              "1  https://chtbl.com/track/5899E/podtrac.com/pts/...   \n",
              "2  https://chtbl.com/track/5899E/podtrac.com/pts/...   \n",
              "3  https://chtbl.com/track/5899E/podtrac.com/pts/...   \n",
              "4  https://chtbl.com/track/5899E/podtrac.com/pts/...   \n",
              "\n",
              "                                          text_chunk  \\\n",
              "0  Title: sysk_with_transcripts_SYSK Selects How ...   \n",
              "1  Title: sysk_with_transcripts_SYSK Selects How ...   \n",
              "2  Title: sysk_with_transcripts_SYSK Selects How ...   \n",
              "3  Title: sysk_with_transcripts_SYSK Selects How ...   \n",
              "4  Title: sysk_with_transcripts_SYSK Selects How ...   \n",
              "\n",
              "                                           embedding  \\\n",
              "0  [0.021279960870742798, -0.005817972123622894, ...   \n",
              "1  [0.013859338127076626, 0.00857278611510992, 0....   \n",
              "2  [0.015242221765220165, 0.016030369326472282, 0...   \n",
              "3  [0.004371842369437218, -0.003036574460566044, ...   \n",
              "4  [0.017309172078967094, 0.015154214575886726, 0...   \n",
              "\n",
              "                                          cleaned_id  \n",
              "0  sysk_with_transcripts_SYSK Selects How Crime S...  \n",
              "1  sysk_with_transcripts_SYSK Selects How Crime S...  \n",
              "2  sysk_with_transcripts_SYSK Selects How Crime S...  \n",
              "3  sysk_with_transcripts_SYSK Selects How Crime S...  \n",
              "4  sysk_with_transcripts_SYSK Selects How Crime S...  "
            ],
            "text/html": [
              "\n",
              "  <div id=\"df-11070370-8ba6-4fac-991c-1d114cceb8a5\" class=\"colab-df-container\">\n",
              "    <div>\n",
              "<style scoped>\n",
              "    .dataframe tbody tr th:only-of-type {\n",
              "        vertical-align: middle;\n",
              "    }\n",
              "\n",
              "    .dataframe tbody tr th {\n",
              "        vertical-align: top;\n",
              "    }\n",
              "\n",
              "    .dataframe thead th {\n",
              "        text-align: right;\n",
              "    }\n",
              "</style>\n",
              "<table border=\"1\" class=\"dataframe\">\n",
              "  <thead>\n",
              "    <tr style=\"text-align: right;\">\n",
              "      <th></th>\n",
              "      <th>id</th>\n",
              "      <th>filename</th>\n",
              "      <th>title</th>\n",
              "      <th>url</th>\n",
              "      <th>text_chunk</th>\n",
              "      <th>embedding</th>\n",
              "      <th>cleaned_id</th>\n",
              "    </tr>\n",
              "  </thead>\n",
              "  <tbody>\n",
              "    <tr>\n",
              "      <th>0</th>\n",
              "      <td>sysk_with_transcripts_SYSK Selects How Crime S...</td>\n",
              "      <td>sysk_with_transcripts_SYSK Selects How Crime S...</td>\n",
              "      <td>\\n\\nSYSK Selects How Crime Scene Cleanup Works</td>\n",
              "      <td>https://chtbl.com/track/5899E/podtrac.com/pts/...</td>\n",
              "      <td>Title: sysk_with_transcripts_SYSK Selects How ...</td>\n",
              "      <td>[0.021279960870742798, -0.005817972123622894, ...</td>\n",
              "      <td>sysk_with_transcripts_SYSK Selects How Crime S...</td>\n",
              "    </tr>\n",
              "    <tr>\n",
              "      <th>1</th>\n",
              "      <td>sysk_with_transcripts_SYSK Selects How Crime S...</td>\n",
              "      <td>sysk_with_transcripts_SYSK Selects How Crime S...</td>\n",
              "      <td>\\n\\nSYSK Selects How Crime Scene Cleanup Works</td>\n",
              "      <td>https://chtbl.com/track/5899E/podtrac.com/pts/...</td>\n",
              "      <td>Title: sysk_with_transcripts_SYSK Selects How ...</td>\n",
              "      <td>[0.013859338127076626, 0.00857278611510992, 0....</td>\n",
              "      <td>sysk_with_transcripts_SYSK Selects How Crime S...</td>\n",
              "    </tr>\n",
              "    <tr>\n",
              "      <th>2</th>\n",
              "      <td>sysk_with_transcripts_SYSK Selects How Crime S...</td>\n",
              "      <td>sysk_with_transcripts_SYSK Selects How Crime S...</td>\n",
              "      <td>\\n\\nSYSK Selects How Crime Scene Cleanup Works</td>\n",
              "      <td>https://chtbl.com/track/5899E/podtrac.com/pts/...</td>\n",
              "      <td>Title: sysk_with_transcripts_SYSK Selects How ...</td>\n",
              "      <td>[0.015242221765220165, 0.016030369326472282, 0...</td>\n",
              "      <td>sysk_with_transcripts_SYSK Selects How Crime S...</td>\n",
              "    </tr>\n",
              "    <tr>\n",
              "      <th>3</th>\n",
              "      <td>sysk_with_transcripts_SYSK Selects How Crime S...</td>\n",
              "      <td>sysk_with_transcripts_SYSK Selects How Crime S...</td>\n",
              "      <td>\\n\\nSYSK Selects How Crime Scene Cleanup Works</td>\n",
              "      <td>https://chtbl.com/track/5899E/podtrac.com/pts/...</td>\n",
              "      <td>Title: sysk_with_transcripts_SYSK Selects How ...</td>\n",
              "      <td>[0.004371842369437218, -0.003036574460566044, ...</td>\n",
              "      <td>sysk_with_transcripts_SYSK Selects How Crime S...</td>\n",
              "    </tr>\n",
              "    <tr>\n",
              "      <th>4</th>\n",
              "      <td>sysk_with_transcripts_SYSK Selects How Crime S...</td>\n",
              "      <td>sysk_with_transcripts_SYSK Selects How Crime S...</td>\n",
              "      <td>\\n\\nSYSK Selects How Crime Scene Cleanup Works</td>\n",
              "      <td>https://chtbl.com/track/5899E/podtrac.com/pts/...</td>\n",
              "      <td>Title: sysk_with_transcripts_SYSK Selects How ...</td>\n",
              "      <td>[0.017309172078967094, 0.015154214575886726, 0...</td>\n",
              "      <td>sysk_with_transcripts_SYSK Selects How Crime S...</td>\n",
              "    </tr>\n",
              "  </tbody>\n",
              "</table>\n",
              "</div>\n",
              "    <div class=\"colab-df-buttons\">\n",
              "\n",
              "  <div class=\"colab-df-container\">\n",
              "    <button class=\"colab-df-convert\" onclick=\"convertToInteractive('df-11070370-8ba6-4fac-991c-1d114cceb8a5')\"\n",
              "            title=\"Convert this dataframe to an interactive table.\"\n",
              "            style=\"display:none;\">\n",
              "\n",
              "  <svg xmlns=\"http://www.w3.org/2000/svg\" height=\"24px\" viewBox=\"0 -960 960 960\">\n",
              "    <path d=\"M120-120v-720h720v720H120Zm60-500h600v-160H180v160Zm220 220h160v-160H400v160Zm0 220h160v-160H400v160ZM180-400h160v-160H180v160Zm440 0h160v-160H620v160ZM180-180h160v-160H180v160Zm440 0h160v-160H620v160Z\"/>\n",
              "  </svg>\n",
              "    </button>\n",
              "\n",
              "  <style>\n",
              "    .colab-df-container {\n",
              "      display:flex;\n",
              "      gap: 12px;\n",
              "    }\n",
              "\n",
              "    .colab-df-convert {\n",
              "      background-color: #E8F0FE;\n",
              "      border: none;\n",
              "      border-radius: 50%;\n",
              "      cursor: pointer;\n",
              "      display: none;\n",
              "      fill: #1967D2;\n",
              "      height: 32px;\n",
              "      padding: 0 0 0 0;\n",
              "      width: 32px;\n",
              "    }\n",
              "\n",
              "    .colab-df-convert:hover {\n",
              "      background-color: #E2EBFA;\n",
              "      box-shadow: 0px 1px 2px rgba(60, 64, 67, 0.3), 0px 1px 3px 1px rgba(60, 64, 67, 0.15);\n",
              "      fill: #174EA6;\n",
              "    }\n",
              "\n",
              "    .colab-df-buttons div {\n",
              "      margin-bottom: 4px;\n",
              "    }\n",
              "\n",
              "    [theme=dark] .colab-df-convert {\n",
              "      background-color: #3B4455;\n",
              "      fill: #D2E3FC;\n",
              "    }\n",
              "\n",
              "    [theme=dark] .colab-df-convert:hover {\n",
              "      background-color: #434B5C;\n",
              "      box-shadow: 0px 1px 3px 1px rgba(0, 0, 0, 0.15);\n",
              "      filter: drop-shadow(0px 1px 2px rgba(0, 0, 0, 0.3));\n",
              "      fill: #FFFFFF;\n",
              "    }\n",
              "  </style>\n",
              "\n",
              "    <script>\n",
              "      const buttonEl =\n",
              "        document.querySelector('#df-11070370-8ba6-4fac-991c-1d114cceb8a5 button.colab-df-convert');\n",
              "      buttonEl.style.display =\n",
              "        google.colab.kernel.accessAllowed ? 'block' : 'none';\n",
              "\n",
              "      async function convertToInteractive(key) {\n",
              "        const element = document.querySelector('#df-11070370-8ba6-4fac-991c-1d114cceb8a5');\n",
              "        const dataTable =\n",
              "          await google.colab.kernel.invokeFunction('convertToInteractive',\n",
              "                                                    [key], {});\n",
              "        if (!dataTable) return;\n",
              "\n",
              "        const docLinkHtml = 'Like what you see? Visit the ' +\n",
              "          '<a target=\"_blank\" href=https://colab.research.google.com/notebooks/data_table.ipynb>data table notebook</a>'\n",
              "          + ' to learn more about interactive tables.';\n",
              "        element.innerHTML = '';\n",
              "        dataTable['output_type'] = 'display_data';\n",
              "        await google.colab.output.renderOutput(dataTable, element);\n",
              "        const docLink = document.createElement('div');\n",
              "        docLink.innerHTML = docLinkHtml;\n",
              "        element.appendChild(docLink);\n",
              "      }\n",
              "    </script>\n",
              "  </div>\n",
              "\n",
              "\n",
              "<div id=\"df-42b61052-3039-4c4a-be8c-256693f6a6ca\">\n",
              "  <button class=\"colab-df-quickchart\" onclick=\"quickchart('df-42b61052-3039-4c4a-be8c-256693f6a6ca')\"\n",
              "            title=\"Suggest charts\"\n",
              "            style=\"display:none;\">\n",
              "\n",
              "<svg xmlns=\"http://www.w3.org/2000/svg\" height=\"24px\"viewBox=\"0 0 24 24\"\n",
              "     width=\"24px\">\n",
              "    <g>\n",
              "        <path d=\"M19 3H5c-1.1 0-2 .9-2 2v14c0 1.1.9 2 2 2h14c1.1 0 2-.9 2-2V5c0-1.1-.9-2-2-2zM9 17H7v-7h2v7zm4 0h-2V7h2v10zm4 0h-2v-4h2v4z\"/>\n",
              "    </g>\n",
              "</svg>\n",
              "  </button>\n",
              "\n",
              "<style>\n",
              "  .colab-df-quickchart {\n",
              "      --bg-color: #E8F0FE;\n",
              "      --fill-color: #1967D2;\n",
              "      --hover-bg-color: #E2EBFA;\n",
              "      --hover-fill-color: #174EA6;\n",
              "      --disabled-fill-color: #AAA;\n",
              "      --disabled-bg-color: #DDD;\n",
              "  }\n",
              "\n",
              "  [theme=dark] .colab-df-quickchart {\n",
              "      --bg-color: #3B4455;\n",
              "      --fill-color: #D2E3FC;\n",
              "      --hover-bg-color: #434B5C;\n",
              "      --hover-fill-color: #FFFFFF;\n",
              "      --disabled-bg-color: #3B4455;\n",
              "      --disabled-fill-color: #666;\n",
              "  }\n",
              "\n",
              "  .colab-df-quickchart {\n",
              "    background-color: var(--bg-color);\n",
              "    border: none;\n",
              "    border-radius: 50%;\n",
              "    cursor: pointer;\n",
              "    display: none;\n",
              "    fill: var(--fill-color);\n",
              "    height: 32px;\n",
              "    padding: 0;\n",
              "    width: 32px;\n",
              "  }\n",
              "\n",
              "  .colab-df-quickchart:hover {\n",
              "    background-color: var(--hover-bg-color);\n",
              "    box-shadow: 0 1px 2px rgba(60, 64, 67, 0.3), 0 1px 3px 1px rgba(60, 64, 67, 0.15);\n",
              "    fill: var(--button-hover-fill-color);\n",
              "  }\n",
              "\n",
              "  .colab-df-quickchart-complete:disabled,\n",
              "  .colab-df-quickchart-complete:disabled:hover {\n",
              "    background-color: var(--disabled-bg-color);\n",
              "    fill: var(--disabled-fill-color);\n",
              "    box-shadow: none;\n",
              "  }\n",
              "\n",
              "  .colab-df-spinner {\n",
              "    border: 2px solid var(--fill-color);\n",
              "    border-color: transparent;\n",
              "    border-bottom-color: var(--fill-color);\n",
              "    animation:\n",
              "      spin 1s steps(1) infinite;\n",
              "  }\n",
              "\n",
              "  @keyframes spin {\n",
              "    0% {\n",
              "      border-color: transparent;\n",
              "      border-bottom-color: var(--fill-color);\n",
              "      border-left-color: var(--fill-color);\n",
              "    }\n",
              "    20% {\n",
              "      border-color: transparent;\n",
              "      border-left-color: var(--fill-color);\n",
              "      border-top-color: var(--fill-color);\n",
              "    }\n",
              "    30% {\n",
              "      border-color: transparent;\n",
              "      border-left-color: var(--fill-color);\n",
              "      border-top-color: var(--fill-color);\n",
              "      border-right-color: var(--fill-color);\n",
              "    }\n",
              "    40% {\n",
              "      border-color: transparent;\n",
              "      border-right-color: var(--fill-color);\n",
              "      border-top-color: var(--fill-color);\n",
              "    }\n",
              "    60% {\n",
              "      border-color: transparent;\n",
              "      border-right-color: var(--fill-color);\n",
              "    }\n",
              "    80% {\n",
              "      border-color: transparent;\n",
              "      border-right-color: var(--fill-color);\n",
              "      border-bottom-color: var(--fill-color);\n",
              "    }\n",
              "    90% {\n",
              "      border-color: transparent;\n",
              "      border-bottom-color: var(--fill-color);\n",
              "    }\n",
              "  }\n",
              "</style>\n",
              "\n",
              "  <script>\n",
              "    async function quickchart(key) {\n",
              "      const quickchartButtonEl =\n",
              "        document.querySelector('#' + key + ' button');\n",
              "      quickchartButtonEl.disabled = true;  // To prevent multiple clicks.\n",
              "      quickchartButtonEl.classList.add('colab-df-spinner');\n",
              "      try {\n",
              "        const charts = await google.colab.kernel.invokeFunction(\n",
              "            'suggestCharts', [key], {});\n",
              "      } catch (error) {\n",
              "        console.error('Error during call to suggestCharts:', error);\n",
              "      }\n",
              "      quickchartButtonEl.classList.remove('colab-df-spinner');\n",
              "      quickchartButtonEl.classList.add('colab-df-quickchart-complete');\n",
              "    }\n",
              "    (() => {\n",
              "      let quickchartButtonEl =\n",
              "        document.querySelector('#df-42b61052-3039-4c4a-be8c-256693f6a6ca button');\n",
              "      quickchartButtonEl.style.display =\n",
              "        google.colab.kernel.accessAllowed ? 'block' : 'none';\n",
              "    })();\n",
              "  </script>\n",
              "</div>\n",
              "    </div>\n",
              "  </div>\n"
            ],
            "application/vnd.google.colaboratory.intrinsic+json": {
              "type": "dataframe",
              "summary": "{\n  \"name\": \"pd\",\n  \"rows\": 5,\n  \"fields\": [\n    {\n      \"column\": \"id\",\n      \"properties\": {\n        \"dtype\": \"string\",\n        \"num_unique_values\": 5,\n        \"samples\": [\n          \"sysk_with_transcripts_SYSK Selects How Crime Scene Cleanup Works.json-!1\",\n          \"sysk_with_transcripts_SYSK Selects How Crime Scene Cleanup Works.json-!4\",\n          \"sysk_with_transcripts_SYSK Selects How Crime Scene Cleanup Works.json-!2\"\n        ],\n        \"semantic_type\": \"\",\n        \"description\": \"\"\n      }\n    },\n    {\n      \"column\": \"filename\",\n      \"properties\": {\n        \"dtype\": \"category\",\n        \"num_unique_values\": 1,\n        \"samples\": [\n          \"sysk_with_transcripts_SYSK Selects How Crime Scene Cleanup Works.json\"\n        ],\n        \"semantic_type\": \"\",\n        \"description\": \"\"\n      }\n    },\n    {\n      \"column\": \"title\",\n      \"properties\": {\n        \"dtype\": \"category\",\n        \"num_unique_values\": 1,\n        \"samples\": [\n          \"\\n\\nSYSK Selects How Crime Scene Cleanup Works\"\n        ],\n        \"semantic_type\": \"\",\n        \"description\": \"\"\n      }\n    },\n    {\n      \"column\": \"url\",\n      \"properties\": {\n        \"dtype\": \"category\",\n        \"num_unique_values\": 1,\n        \"samples\": [\n          \"https://chtbl.com/track/5899E/podtrac.com/pts/redirect.mp3/traffic.omny.fm/d/clips/e73c998e-6e60-432f-8610-ae210140c5b1/a91018a4-ea4f-4130-bf55-ae270180c327/cde4d579-b855-4b10-a122-ae28006cffc7/audio.mp3?utm_source=Podcast&in_playlist=44710ecc-10bb-48d1-93c7-ae270180c33e\"\n        ],\n        \"semantic_type\": \"\",\n        \"description\": \"\"\n      }\n    },\n    {\n      \"column\": \"text_chunk\",\n      \"properties\": {\n        \"dtype\": \"string\",\n        \"num_unique_values\": 5,\n        \"samples\": [\n          \"Title: sysk_with_transcripts_SYSK Selects How Crime Scene Cleanup Works.json;  Is it? But now that I've read this crime scene clean up article on our fairsitehouselworks.com, I realized just how far off the mark some of the details were on that. Was it pretty far? Yeah, a little bit. Have you seen Sunshine Cleaning? No, but from the previous, that one looks pretty far off the mark, too. I remember seeing them carrying out, like, a mattress, just like Mrs. Brady spring cleaning type outfits. Yeah, you remember those? She had, like, the little du rag and she had the little clam diggers rolled up and, like, some Converse on, just cute as a button. That was one of the jokes of the scenes, actually. They were carrying out this Amy Adams and the other girl carrying out this nasty, like, bloody mattress, and one of them dropped her end and the other one fell on the bloody stain and it was just like it's really good movie, though, actually. Yeah, it was great. Is it by the people who made Loma Sunshine or am I just confusing that? Because Sunshine is the name. It's a little indie, though. Alan Arkin was in it, so maybe so I wonder. It's good. All right, well, both of these movies are utter frauds when it comes to the details. Right, Chuck? Yeah, for the most part. Okay. Let's talk about Crime Scene clean up, the real stuff, because there's nothing cute or about it. It's actually horrific work, and it takes a very specific kind of person. And those people last an average of about eight months before they get burned out in this business. Right? Yeah. All right. So it's actually called it's part of the cleaning industry. It's a niche part of the cleaning industry. Very niche. Not very heavily marketed in traditional channels. Right. It's not how it works, but it's called CTS decon. Crime and trauma scene decontamination. Right. Yeah. And basically what it is is it is a cleaning service on steroids. There's no Mrs Brady outfits.\"\n        ],\n        \"semantic_type\": \"\",\n        \"description\": \"\"\n      }\n    },\n    {\n      \"column\": \"embedding\",\n      \"properties\": {\n        \"dtype\": \"object\",\n        \"semantic_type\": \"\",\n        \"description\": \"\"\n      }\n    },\n    {\n      \"column\": \"cleaned_id\",\n      \"properties\": {\n        \"dtype\": \"string\",\n        \"num_unique_values\": 5,\n        \"samples\": [\n          \"sysk_with_transcripts_SYSK Selects How Crime Scene Cleanup Works.json-!1\"\n        ],\n        \"semantic_type\": \"\",\n        \"description\": \"\"\n      }\n    }\n  ]\n}"
            }
          },
          "metadata": {},
          "execution_count": 41
        }
      ],
      "source": [
        "# Have a look at the contents\n",
        "pd.DataFrame(processed_podcasts).head()"
      ]
    },
    {
      "cell_type": "code",
      "execution_count": null,
      "id": "f9715d1f",
      "metadata": {
        "id": "f9715d1f",
        "colab": {
          "base_uri": "https://localhost:8080/",
          "height": 49,
          "referenced_widgets": [
            "5f52a097c357402590eef8a8b14e1553",
            "99af34a26f5f4843acfa1106b263c28a",
            "a9ee6ca0b3584d51ad6ebe071206111d",
            "6258c0d375c64a7bb23eca57828d3d3e",
            "a930331d35f04900ac621913012fe198",
            "9e4f983251964fe2892c505fb4fc5199",
            "211c426c01294c1092809b389a31c7ca",
            "1d6cb9dec48a411fa32c380ef9dfabfc",
            "201da6ff1919455eb5bc9378d242aee2",
            "8a2818a2f3f84d27bb82f1c1ba9f0037",
            "279356ffadb74848a29ad46853aead6a"
          ]
        },
        "outputId": "85197900-d1d0-4f03-e814-5dbb724f3f8e"
      },
      "outputs": [
        {
          "output_type": "display_data",
          "data": {
            "text/plain": [
              "  0%|          | 0/382 [00:00<?, ?it/s]"
            ],
            "application/vnd.jupyter.widget-view+json": {
              "version_major": 2,
              "version_minor": 0,
              "model_id": "5f52a097c357402590eef8a8b14e1553"
            }
          },
          "metadata": {}
        }
      ],
      "source": [
        "# Add the text embeddings to Pinecone\n",
        "\n",
        "batch_size = 100  # how many embeddings we create and insert at once\n",
        "\n",
        "for i in tqdm(range(0, len(processed_podcasts), batch_size)):\n",
        "    # find end of batch\n",
        "    i_end = min(len(processed_podcasts), i+batch_size)\n",
        "    meta_batch = processed_podcasts[i:i_end]\n",
        "    # get ids\n",
        "    ids_batch = [x['cleaned_id'] for x in meta_batch]\n",
        "    # get texts to encode\n",
        "    texts = [x['text_chunk'] for x in meta_batch]\n",
        "    # add embeddings\n",
        "    embeds = [x['embedding'] for x in meta_batch]\n",
        "    # cleanup metadata\n",
        "    meta_batch = [{\n",
        "        'filename': x['filename'],\n",
        "        'title': x['title'],\n",
        "        'text_chunk': x['text_chunk'],\n",
        "        'url': x['url']\n",
        "    } for x in meta_batch]\n",
        "    to_upsert = list(zip(ids_batch, embeds, meta_batch))\n",
        "    # upsert to Pinecone\n",
        "    index.upsert(vectors=to_upsert)"
      ]
    },
    {
      "cell_type": "code",
      "execution_count": null,
      "id": "3c5bac10",
      "metadata": {
        "id": "3c5bac10",
        "colab": {
          "base_uri": "https://localhost:8080/"
        },
        "outputId": "463ba7a7-6f88-4cb6-8e4a-88f2bf8c3ed5"
      },
      "outputs": [
        {
          "output_type": "stream",
          "name": "stderr",
          "text": [
            "/usr/local/lib/python3.10/dist-packages/langchain_core/_api/deprecation.py:117: LangChainDeprecationWarning: The class `langchain_community.embeddings.openai.OpenAIEmbeddings` was deprecated in langchain-community 0.0.9 and will be removed in 0.2.0. An updated version of the class exists in the langchain-openai package and should be used instead. To use it run `pip install -U langchain-openai` and import as `from langchain_openai import OpenAIEmbeddings`.\n",
            "  warn_deprecated(\n"
          ]
        }
      ],
      "source": [
        "# Configuring the embeddings to be used by our retriever to be OpenAI Embeddings, matching our embedded corpus\n",
        "embeddings = OpenAIEmbeddings()\n",
        "\n",
        "from langchain.vectorstores import Pinecone\n",
        "\n",
        "# Loads a docsearch object from an existing Pinecone index so we can retrieve from it\n",
        "docsearch = Pinecone.from_existing_index(index_name, embeddings, text_key='text_chunk')"
      ]
    },
    {
      "cell_type": "code",
      "execution_count": null,
      "id": "5dd21d92",
      "metadata": {
        "id": "5dd21d92"
      },
      "outputs": [],
      "source": [
        "retriever = docsearch.as_retriever()"
      ]
    },
    {
      "cell_type": "code",
      "execution_count": null,
      "id": "8abd34e5",
      "metadata": {
        "id": "8abd34e5"
      },
      "outputs": [],
      "source": [
        "query_docs = retriever.get_relevant_documents(\"Do I need a bank account?\")"
      ]
    },
    {
      "cell_type": "code",
      "execution_count": null,
      "id": "016bd458",
      "metadata": {
        "id": "016bd458",
        "colab": {
          "base_uri": "https://localhost:8080/"
        },
        "outputId": "19c4ded2-5353-46a1-d6cf-bb6488e60b9a"
      },
      "outputs": [
        {
          "output_type": "stream",
          "name": "stdout",
          "text": [
            "Title: sysk: Can You Live Without a Bank Account?\n",
            "\n",
            "Title: sysk_with_transcripts_Can you live without a bank account.json;  And if you had a life, you didn't necessarily rectify your bank checkbook every day. Oh, wait, what is balancing a checkbook mean? Seriously? Yeah. Thank God for my wife. So another reason you might avoid a bank is philosophically. There may be a longstanding distrust of banks in your family that you don't want to put your money in, or you may just want to be like, you know what? I don't want to take part in this modern society. I want to kind of drop out a bit. And a really good first move is to shut your bank account down. That's a big statement. Oh, yeah, it is. But a lot of people that are underbanked and don't have accounts aren't there on purpose. It's not some philosophical statement. A lot of times it's simply because they are poor and they don't have a lot of alternatives. Yeah. And the other thing about not having a bank account, not only do you not have a bank account, you also are, like, basically just avoiding banks altogether. There's plenty of other things that banks offer, like loans and mortgage, lollipops, stuff like that. Yeah. Maybe some free nasty coffee. So when you don't have a banking account, that's like the most basic unit of the banking world. Right. If you don't have that, you obviously aren't going to be exposed to all these other things that can help. Things like build your credit history through like a revolving loan or a mortgage or a car loan or something like that that you can build up your credit for and ultimately save money. So when you don't have a bank account, for whatever reason, you are effectively out of the banking system. The problem is you can live parallel to the banking system outside of it, but it can be really dangerous, especially if you're just dealing with cash, because that cash has to stay somewhere, whether it's on you or in your mattress or in a coffee can in your backyard. You're exposed for having that readily available to anybody who finds it or comes into your house with a gun to get it. Yes.\n",
            "\n",
            "\n",
            "Title: sysk: Can You Live Without a Bank Account?\n",
            "\n",
            "Title: sysk_with_transcripts_Can you live without a bank account.json;  And it doesn't have to be an everyday thing. You can host when you want. Like, let's say you're taking a week's vacation. Why not host your home? Because that money could go toward paying for your current vacation or towards your retirement fund or even towards your kids college fund. Yeah. For anything. And listen, if you're worried about your stuff, don't be. Air cover for hosts. Let hosts welcome guests into their home without having to worry. You get $1 million in damage protection anytime you're hosting. Plus pet damage protection and income loss protection, too. And are you ready for this? Air cover for host is completely free every time you host on airbnb. Free with a capital F, with air cover for Host. It makes hosting a no brainer, and the benefits really start adding up. So learn more and host with peace of mind at Airbnb comaircoverforhosts. Capital One offers commercial solutions you can bank on. Now more than ever, your business faces specific challenges and unique opportunities. That's why Capital One offers a comprehensive suite of financial services custom tailored to your short and long term goals, backed by the expertise, strategy and resources of a top ten commercial bank, a dedicated team works with you to support your success and help you achieve your goals. Explore the possibilities at CapitalOne. comCOMMERCIAL all right, so if you live in modern society today, it is pretty tough to get by without a bank. Most cases these days you have well, I don't know about most cases, but in many cases you have automatic deposits of your work checks. Sure. A lot of people pay their bills wirelessly, online, directly from their bank. You might have a student loan, you might have a car loan, you might have your house mortgage, you might pay your credit card bills. All this stuff is running through a bank, most likely. And you would think it's probably impossible to not have a bank account these days. And I would say pretty much all Americans have them. Not true. Well, pretty much all Americans do. Like 93% do. Yeah, but that's not all. No, it's true.\n",
            "\n",
            "\n",
            "Title: sysk: Can You Live Without a Bank Account?\n",
            "\n",
            "Title: sysk_with_transcripts_Can you live without a bank account.json;  Yeah. 7% of Americans do not have bank accounts. About 9 million people last year in 2015 did not have bank accounts. 9 million people is a lot of people. No, it really is. And apparently that's household sorry, not people. Yeah, right. You're that is a big distinction, too. And the FDIC said, man, that's the lowest since we've been tracking this by far. And someone said, well, how long have you been tracking this? They said, well, the last six years. Really? Yeah, which I'm like. Really? That's when they started tracking it, but apparently so 2009. So if you want another number, the 9 million American households don't have bank accounts at all, then there are 25 million households in addition to that. So that makes almost like 34 million households, which that's a substantial number at this point. Sure. The 25 million are what's called underbanked, meaning they may have a bank account, but they don't use the bank account. Yeah. They don't use it because they are probably afraid of overdraft fees. Or they have maybe a bank account that got grandfathered in so that they don't have to pay minimum amount fees. And who knows? There's all sorts of reasons for people to not use a bank account that they have, but probably cheap among them is overdressed, which you'll talk more about. Yeah. And the majority of these underbank people in the United States are poor, usually. A lot of times they're minorities, a lot of times they're less educated. And these communities, there's a few reasons why they may not want to use a bank one. Maybe they don't trust banks. And if you look in the history of the United States or certainly even we're just talking about the Wells Fargo scandal, when you see stuff like that on the news, it should be upsetting to everyone. But obviously if you're poor and you don't have a lot of money, that may scare you into not wanting to use a bank at all. Right? Yeah.\n",
            "\n",
            "\n",
            "Title: sysk: Can You Live Without a Bank Account?\n",
            "\n",
            "Title: sysk_with_transcripts_Can you live without a bank account.json;  Some guys to come to your house, maybe bring a little dinner and just tell you straight up, all right, I got a little worked up, so I'm going to go splash my face with eggnog and I'll be right back after this. Hey, everybody, Chuck here. Did you know there are millions of people around the world hosting on Airbnb right now? Yeah. Which means that's a lot of amazing homes that are making people a lot of extra money. And it doesn't have to be an everyday thing you can host when you want. Like, let's say you're taking a week's vacation. Why not host your home? Because that money could go toward paying for your current vacation or towards your retirement fund, or even towards your kids college fund. Yeah. For anything. And listen, if you're worried about your stuff, don't be. Air Cover for Hosts. Let hosts welcome guests into their home without having to worry. You get $1 million in damage protection anytime you're hosting, plus pet damage protection and income loss protection, too. And are you ready for this? Air Cover for Host is completely free every time you host on Airbnb. Free with a capital F. With Air Cover for Host, it makes hosting a no brainer, and the benefits really start adding up. So learn more and host with peace of mind at Airbnb Comaircover for Hosts. Capital One offers commercial solutions you can bank on. Now more than ever, your business faces specific challenges and unique opportunities. That's why Capital One offers a comprehensive suite of financial services custom tailored to your short and long term goals, backed by the expertise, strategy, and resources of a top ten commercial bank, a dedicated team works with you to support your success and help you achieve your goals. Explore the possibilities at CapitalOne. comCOMMERCIAL. All right, Chuck, so let's say that you don't feel like getting scammed by anybody? No, you just want to be free. Yeah. What can you do? What are some of the things you can do? Well, there are a few things that you can do. You can try an alternative currency. Okay.\n",
            "\n",
            "\n"
          ]
        }
      ],
      "source": [
        "# Print out the title and content for the most relevant retrieved documents\n",
        "print(\"\\n\".join(['Title: ' + x.metadata['title'].strip() + '\\n\\n' + x.page_content + '\\n\\n' for x in query_docs]))"
      ]
    },
    {
      "cell_type": "markdown",
      "id": "2bf10f53",
      "metadata": {
        "id": "2bf10f53"
      },
      "source": [
        "## LLM Agent with Tools\n",
        "\n",
        "Extend our list of tools by creating a [RetrievalQA](https://python.langchain.com/en/latest/modules/chains/index_examples/vector_db_qa.html) chain leveraging our Pinecone knowledge base."
      ]
    },
    {
      "cell_type": "code",
      "execution_count": null,
      "id": "a6cae4cf",
      "metadata": {
        "id": "a6cae4cf",
        "colab": {
          "base_uri": "https://localhost:8080/"
        },
        "outputId": "70234386-6141-481b-f911-e1b0307101ad"
      },
      "outputs": [
        {
          "output_type": "stream",
          "name": "stderr",
          "text": [
            "/usr/local/lib/python3.10/dist-packages/langchain_core/_api/deprecation.py:117: LangChainDeprecationWarning: The class `langchain_community.llms.openai.OpenAI` was deprecated in langchain-community 0.0.10 and will be removed in 0.2.0. An updated version of the class exists in the langchain-openai package and should be used instead. To use it run `pip install -U langchain-openai` and import as `from langchain_openai import OpenAI`.\n",
            "  warn_deprecated(\n"
          ]
        }
      ],
      "source": [
        "from langchain.chains import RetrievalQA\n",
        "\n",
        "retrieval_llm = OpenAI(temperature=0)\n",
        "\n",
        "podcast_retriever = RetrievalQA.from_chain_type(llm=retrieval_llm, chain_type=\"stuff\", retriever=docsearch.as_retriever())"
      ]
    },
    {
      "cell_type": "code",
      "execution_count": null,
      "id": "0cc282cd",
      "metadata": {
        "id": "0cc282cd"
      },
      "outputs": [],
      "source": [
        "expanded_tools = [\n",
        "    Tool(\n",
        "        name = \"Search\",\n",
        "        func=search.run,\n",
        "        description=\"useful for when you need to answer questions about current events\"\n",
        "    ),\n",
        "    Tool(\n",
        "        name = 'Knowledge Base',\n",
        "        func=podcast_retriever.run,\n",
        "        description=\"Useful for general questions about how to do things and for details on interesting topics. Input should be a fully formed question.\"\n",
        "    )\n",
        "]"
      ]
    },
    {
      "cell_type": "code",
      "execution_count": null,
      "id": "d1e12121",
      "metadata": {
        "pycharm": {
          "is_executing": true
        },
        "id": "d1e12121"
      },
      "outputs": [],
      "source": [
        "# Re-initialize the agent with our new list of tools\n",
        "prompt_with_history = CustomPromptTemplate(\n",
        "    template=template_with_history,\n",
        "    tools=expanded_tools,\n",
        "    input_variables=[\"input\", \"intermediate_steps\", \"history\"]\n",
        ")\n",
        "llm_chain = LLMChain(llm=llm, prompt=prompt_with_history)\n",
        "multi_tool_names = [tool.name for tool in expanded_tools]\n",
        "multi_tool_agent = LLMSingleActionAgent(\n",
        "    llm_chain=llm_chain,\n",
        "    output_parser=output_parser,\n",
        "    stop=[\"\\nObservation:\"],\n",
        "    allowed_tools=multi_tool_names\n",
        ")"
      ]
    },
    {
      "cell_type": "code",
      "execution_count": null,
      "id": "2ac8eaa2",
      "metadata": {
        "id": "2ac8eaa2"
      },
      "outputs": [],
      "source": [
        "multi_tool_memory = ConversationBufferWindowMemory(k=2)\n",
        "multi_tool_executor = AgentExecutor.from_agent_and_tools(agent=multi_tool_agent, tools=expanded_tools, verbose=True, memory=multi_tool_memory)"
      ]
    },
    {
      "cell_type": "code",
      "source": [
        "multi_tool_executor.run(\"Can you live without a bank account?\")"
      ],
      "metadata": {
        "id": "gc-c1HEWCLqi",
        "colab": {
          "base_uri": "https://localhost:8080/",
          "height": 293
        },
        "outputId": "2b02e245-4e35-4013-871e-5b5c6b4da291"
      },
      "id": "gc-c1HEWCLqi",
      "execution_count": null,
      "outputs": [
        {
          "output_type": "stream",
          "name": "stdout",
          "text": [
            "\n",
            "\n",
            "\u001b[1m> Entering new AgentExecutor chain...\u001b[0m\n",
            "\u001b[32;1m\u001b[1;3mQuestion: Can you live without a bank account?\n",
            "Thought: This question involves understanding the necessity of a bank account in daily life.\n",
            "Action: Knowledge Base\n",
            "Action Input: \"Can you live without a bank account?\"\u001b[0m\n",
            "\n",
            "Observation:\u001b[33;1m\u001b[1;3m Yes, it is possible to live without a bank account, as approximately 7% of Americans do not have one. However, it may be more difficult to manage finances and access certain services without a bank account.\u001b[0m\n",
            "\u001b[32;1m\u001b[1;3mLiving without a bank account may require alternative methods for managing finances and accessing services. Some people may choose to use prepaid debit cards, money orders, or check-cashing services instead. It's important to consider the potential limitations and challenges of not having a bank account. \n",
            "\n",
            "Final Answer: Yes, it is possible to live without a bank account, but it may present challenges in managing finances and accessing certain services.\u001b[0m\n",
            "\n",
            "\u001b[1m> Finished chain.\u001b[0m\n"
          ]
        },
        {
          "output_type": "execute_result",
          "data": {
            "text/plain": [
              "'Yes, it is possible to live without a bank account, but it may present challenges in managing finances and accessing certain services.'"
            ],
            "application/vnd.google.colaboratory.intrinsic+json": {
              "type": "string"
            }
          },
          "metadata": {},
          "execution_count": 59
        }
      ]
    },
    {
      "cell_type": "code",
      "execution_count": null,
      "id": "f27bb1de",
      "metadata": {
        "scrolled": false,
        "id": "f27bb1de",
        "colab": {
          "base_uri": "https://localhost:8080/",
          "height": 259
        },
        "outputId": "eb5653be-89d6-40d4-d84c-6e3dd8367b2b"
      },
      "outputs": [
        {
          "output_type": "stream",
          "name": "stdout",
          "text": [
            "\n",
            "\n",
            "\u001b[1m> Entering new AgentExecutor chain...\u001b[0m\n",
            "\u001b[32;1m\u001b[1;3mThought: To answer this question, I need to consider the various reasons why someone might need a bank account in America.\n",
            "Action: Search\n",
            "Action Input: \"reasons why a bank account is needed in America\"\u001b[0m\n",
            "\n",
            "Observation:\u001b[36;1m\u001b[1;3mOpening a bank account can be one of the most important steps you take toward reaching your financial goals. Why? Because putting your money in an FDIC-insured bank account can offer you financial safety, easy access to your funds, savings from check-cashing fees, and overall financial peace of mind.\u001b[0m\n",
            "\u001b[32;1m\u001b[1;3mBased on the search results, it seems that having a bank account in America is important for financial safety, easy access to funds, savings from check-cashing fees, and overall financial peace of mind.\n",
            "Final Answer: While it is possible to live without a bank account in America, having one can provide significant benefits in terms of financial security and convenience.\u001b[0m\n",
            "\n",
            "\u001b[1m> Finished chain.\u001b[0m\n"
          ]
        },
        {
          "output_type": "execute_result",
          "data": {
            "text/plain": [
              "'While it is possible to live without a bank account in America, having one can provide significant benefits in terms of financial security and convenience.'"
            ],
            "application/vnd.google.colaboratory.intrinsic+json": {
              "type": "string"
            }
          },
          "metadata": {},
          "execution_count": 60
        }
      ],
      "source": [
        "multi_tool_executor.run(\"I would like to know if a bank account is needed in America\")"
      ]
    },
    {
      "cell_type": "code",
      "execution_count": null,
      "id": "cba815cf",
      "metadata": {
        "id": "cba815cf",
        "colab": {
          "base_uri": "https://localhost:8080/",
          "height": 276
        },
        "outputId": "09d27ed1-c1bc-4e9f-b5b5-63801322b335"
      },
      "outputs": [
        {
          "output_type": "stream",
          "name": "stdout",
          "text": [
            "\n",
            "\n",
            "\u001b[1m> Entering new AgentExecutor chain...\u001b[0m\n",
            "\u001b[32;1m\u001b[1;3mQuestion: Can you tell me how much should you save for retirement?\n",
            "Thought: This question requires a general understanding of retirement savings guidelines.\n",
            "Action: Knowledge Base\n",
            "Action Input: \"Retirement savings guidelines\"\u001b[0m\n",
            "\n",
            "Observation:\u001b[33;1m\u001b[1;3m The general rule of thumb is to have three to six months worth of expenses saved in a separate emergency fund, followed by paying off any debt and then focusing on long-term savings such as a 401K or IRA. It is recommended to save at least eight times your ending salary by the time you retire. It is also important to start saving early and to diversify investments.\u001b[0m\n",
            "\u001b[32;1m\u001b[1;3mI now know the final answer\n",
            "Final Answer: It is recommended to save at least eight times your ending salary by the time you retire.\u001b[0m\n",
            "\n",
            "\u001b[1m> Finished chain.\u001b[0m\n"
          ]
        },
        {
          "output_type": "execute_result",
          "data": {
            "text/plain": [
              "'It is recommended to save at least eight times your ending salary by the time you retire.'"
            ],
            "application/vnd.google.colaboratory.intrinsic+json": {
              "type": "string"
            }
          },
          "metadata": {},
          "execution_count": 61
        }
      ],
      "source": [
        "multi_tool_executor.run('Can you tell me how much should you save for retirement?')"
      ]
    },
    {
      "cell_type": "markdown",
      "id": "efe408a3",
      "metadata": {
        "id": "efe408a3"
      },
      "source": [
        "You now have a template to deploy conversational agents with tools. If you want to extend this with a Custom Agent to add your own retry behaviour or treatment of input/output variables, then follow [this article](https://python.langchain.com/en/latest/modules/agents/agents/custom_agent.html).\n",
        "\n",
        "We look forward to seeing what you build!"
      ]
    }
  ],
  "metadata": {
    "kernelspec": {
      "display_name": "pchain_env",
      "language": "python",
      "name": "pchain_env"
    },
    "language_info": {
      "codemirror_mode": {
        "name": "ipython",
        "version": 3
      },
      "file_extension": ".py",
      "mimetype": "text/x-python",
      "name": "python",
      "nbconvert_exporter": "python",
      "pygments_lexer": "ipython3",
      "version": "3.10.10"
    },
    "colab": {
      "provenance": []
    },
    "widgets": {
      "application/vnd.jupyter.widget-state+json": {
        "5f52a097c357402590eef8a8b14e1553": {
          "model_module": "@jupyter-widgets/controls",
          "model_name": "HBoxModel",
          "model_module_version": "1.5.0",
          "state": {
            "_dom_classes": [],
            "_model_module": "@jupyter-widgets/controls",
            "_model_module_version": "1.5.0",
            "_model_name": "HBoxModel",
            "_view_count": null,
            "_view_module": "@jupyter-widgets/controls",
            "_view_module_version": "1.5.0",
            "_view_name": "HBoxView",
            "box_style": "",
            "children": [
              "IPY_MODEL_99af34a26f5f4843acfa1106b263c28a",
              "IPY_MODEL_a9ee6ca0b3584d51ad6ebe071206111d",
              "IPY_MODEL_6258c0d375c64a7bb23eca57828d3d3e"
            ],
            "layout": "IPY_MODEL_a930331d35f04900ac621913012fe198"
          }
        },
        "99af34a26f5f4843acfa1106b263c28a": {
          "model_module": "@jupyter-widgets/controls",
          "model_name": "HTMLModel",
          "model_module_version": "1.5.0",
          "state": {
            "_dom_classes": [],
            "_model_module": "@jupyter-widgets/controls",
            "_model_module_version": "1.5.0",
            "_model_name": "HTMLModel",
            "_view_count": null,
            "_view_module": "@jupyter-widgets/controls",
            "_view_module_version": "1.5.0",
            "_view_name": "HTMLView",
            "description": "",
            "description_tooltip": null,
            "layout": "IPY_MODEL_9e4f983251964fe2892c505fb4fc5199",
            "placeholder": "​",
            "style": "IPY_MODEL_211c426c01294c1092809b389a31c7ca",
            "value": "100%"
          }
        },
        "a9ee6ca0b3584d51ad6ebe071206111d": {
          "model_module": "@jupyter-widgets/controls",
          "model_name": "FloatProgressModel",
          "model_module_version": "1.5.0",
          "state": {
            "_dom_classes": [],
            "_model_module": "@jupyter-widgets/controls",
            "_model_module_version": "1.5.0",
            "_model_name": "FloatProgressModel",
            "_view_count": null,
            "_view_module": "@jupyter-widgets/controls",
            "_view_module_version": "1.5.0",
            "_view_name": "ProgressView",
            "bar_style": "success",
            "description": "",
            "description_tooltip": null,
            "layout": "IPY_MODEL_1d6cb9dec48a411fa32c380ef9dfabfc",
            "max": 382,
            "min": 0,
            "orientation": "horizontal",
            "style": "IPY_MODEL_201da6ff1919455eb5bc9378d242aee2",
            "value": 382
          }
        },
        "6258c0d375c64a7bb23eca57828d3d3e": {
          "model_module": "@jupyter-widgets/controls",
          "model_name": "HTMLModel",
          "model_module_version": "1.5.0",
          "state": {
            "_dom_classes": [],
            "_model_module": "@jupyter-widgets/controls",
            "_model_module_version": "1.5.0",
            "_model_name": "HTMLModel",
            "_view_count": null,
            "_view_module": "@jupyter-widgets/controls",
            "_view_module_version": "1.5.0",
            "_view_name": "HTMLView",
            "description": "",
            "description_tooltip": null,
            "layout": "IPY_MODEL_8a2818a2f3f84d27bb82f1c1ba9f0037",
            "placeholder": "​",
            "style": "IPY_MODEL_279356ffadb74848a29ad46853aead6a",
            "value": " 382/382 [12:05&lt;00:00,  1.61s/it]"
          }
        },
        "a930331d35f04900ac621913012fe198": {
          "model_module": "@jupyter-widgets/base",
          "model_name": "LayoutModel",
          "model_module_version": "1.2.0",
          "state": {
            "_model_module": "@jupyter-widgets/base",
            "_model_module_version": "1.2.0",
            "_model_name": "LayoutModel",
            "_view_count": null,
            "_view_module": "@jupyter-widgets/base",
            "_view_module_version": "1.2.0",
            "_view_name": "LayoutView",
            "align_content": null,
            "align_items": null,
            "align_self": null,
            "border": null,
            "bottom": null,
            "display": null,
            "flex": null,
            "flex_flow": null,
            "grid_area": null,
            "grid_auto_columns": null,
            "grid_auto_flow": null,
            "grid_auto_rows": null,
            "grid_column": null,
            "grid_gap": null,
            "grid_row": null,
            "grid_template_areas": null,
            "grid_template_columns": null,
            "grid_template_rows": null,
            "height": null,
            "justify_content": null,
            "justify_items": null,
            "left": null,
            "margin": null,
            "max_height": null,
            "max_width": null,
            "min_height": null,
            "min_width": null,
            "object_fit": null,
            "object_position": null,
            "order": null,
            "overflow": null,
            "overflow_x": null,
            "overflow_y": null,
            "padding": null,
            "right": null,
            "top": null,
            "visibility": null,
            "width": null
          }
        },
        "9e4f983251964fe2892c505fb4fc5199": {
          "model_module": "@jupyter-widgets/base",
          "model_name": "LayoutModel",
          "model_module_version": "1.2.0",
          "state": {
            "_model_module": "@jupyter-widgets/base",
            "_model_module_version": "1.2.0",
            "_model_name": "LayoutModel",
            "_view_count": null,
            "_view_module": "@jupyter-widgets/base",
            "_view_module_version": "1.2.0",
            "_view_name": "LayoutView",
            "align_content": null,
            "align_items": null,
            "align_self": null,
            "border": null,
            "bottom": null,
            "display": null,
            "flex": null,
            "flex_flow": null,
            "grid_area": null,
            "grid_auto_columns": null,
            "grid_auto_flow": null,
            "grid_auto_rows": null,
            "grid_column": null,
            "grid_gap": null,
            "grid_row": null,
            "grid_template_areas": null,
            "grid_template_columns": null,
            "grid_template_rows": null,
            "height": null,
            "justify_content": null,
            "justify_items": null,
            "left": null,
            "margin": null,
            "max_height": null,
            "max_width": null,
            "min_height": null,
            "min_width": null,
            "object_fit": null,
            "object_position": null,
            "order": null,
            "overflow": null,
            "overflow_x": null,
            "overflow_y": null,
            "padding": null,
            "right": null,
            "top": null,
            "visibility": null,
            "width": null
          }
        },
        "211c426c01294c1092809b389a31c7ca": {
          "model_module": "@jupyter-widgets/controls",
          "model_name": "DescriptionStyleModel",
          "model_module_version": "1.5.0",
          "state": {
            "_model_module": "@jupyter-widgets/controls",
            "_model_module_version": "1.5.0",
            "_model_name": "DescriptionStyleModel",
            "_view_count": null,
            "_view_module": "@jupyter-widgets/base",
            "_view_module_version": "1.2.0",
            "_view_name": "StyleView",
            "description_width": ""
          }
        },
        "1d6cb9dec48a411fa32c380ef9dfabfc": {
          "model_module": "@jupyter-widgets/base",
          "model_name": "LayoutModel",
          "model_module_version": "1.2.0",
          "state": {
            "_model_module": "@jupyter-widgets/base",
            "_model_module_version": "1.2.0",
            "_model_name": "LayoutModel",
            "_view_count": null,
            "_view_module": "@jupyter-widgets/base",
            "_view_module_version": "1.2.0",
            "_view_name": "LayoutView",
            "align_content": null,
            "align_items": null,
            "align_self": null,
            "border": null,
            "bottom": null,
            "display": null,
            "flex": null,
            "flex_flow": null,
            "grid_area": null,
            "grid_auto_columns": null,
            "grid_auto_flow": null,
            "grid_auto_rows": null,
            "grid_column": null,
            "grid_gap": null,
            "grid_row": null,
            "grid_template_areas": null,
            "grid_template_columns": null,
            "grid_template_rows": null,
            "height": null,
            "justify_content": null,
            "justify_items": null,
            "left": null,
            "margin": null,
            "max_height": null,
            "max_width": null,
            "min_height": null,
            "min_width": null,
            "object_fit": null,
            "object_position": null,
            "order": null,
            "overflow": null,
            "overflow_x": null,
            "overflow_y": null,
            "padding": null,
            "right": null,
            "top": null,
            "visibility": null,
            "width": null
          }
        },
        "201da6ff1919455eb5bc9378d242aee2": {
          "model_module": "@jupyter-widgets/controls",
          "model_name": "ProgressStyleModel",
          "model_module_version": "1.5.0",
          "state": {
            "_model_module": "@jupyter-widgets/controls",
            "_model_module_version": "1.5.0",
            "_model_name": "ProgressStyleModel",
            "_view_count": null,
            "_view_module": "@jupyter-widgets/base",
            "_view_module_version": "1.2.0",
            "_view_name": "StyleView",
            "bar_color": null,
            "description_width": ""
          }
        },
        "8a2818a2f3f84d27bb82f1c1ba9f0037": {
          "model_module": "@jupyter-widgets/base",
          "model_name": "LayoutModel",
          "model_module_version": "1.2.0",
          "state": {
            "_model_module": "@jupyter-widgets/base",
            "_model_module_version": "1.2.0",
            "_model_name": "LayoutModel",
            "_view_count": null,
            "_view_module": "@jupyter-widgets/base",
            "_view_module_version": "1.2.0",
            "_view_name": "LayoutView",
            "align_content": null,
            "align_items": null,
            "align_self": null,
            "border": null,
            "bottom": null,
            "display": null,
            "flex": null,
            "flex_flow": null,
            "grid_area": null,
            "grid_auto_columns": null,
            "grid_auto_flow": null,
            "grid_auto_rows": null,
            "grid_column": null,
            "grid_gap": null,
            "grid_row": null,
            "grid_template_areas": null,
            "grid_template_columns": null,
            "grid_template_rows": null,
            "height": null,
            "justify_content": null,
            "justify_items": null,
            "left": null,
            "margin": null,
            "max_height": null,
            "max_width": null,
            "min_height": null,
            "min_width": null,
            "object_fit": null,
            "object_position": null,
            "order": null,
            "overflow": null,
            "overflow_x": null,
            "overflow_y": null,
            "padding": null,
            "right": null,
            "top": null,
            "visibility": null,
            "width": null
          }
        },
        "279356ffadb74848a29ad46853aead6a": {
          "model_module": "@jupyter-widgets/controls",
          "model_name": "DescriptionStyleModel",
          "model_module_version": "1.5.0",
          "state": {
            "_model_module": "@jupyter-widgets/controls",
            "_model_module_version": "1.5.0",
            "_model_name": "DescriptionStyleModel",
            "_view_count": null,
            "_view_module": "@jupyter-widgets/base",
            "_view_module_version": "1.2.0",
            "_view_name": "StyleView",
            "description_width": ""
          }
        }
      }
    }
  },
  "nbformat": 4,
  "nbformat_minor": 5
}